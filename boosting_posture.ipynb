{
  "cells": [
    {
      "cell_type": "markdown",
      "metadata": {
        "id": "view-in-github",
        "colab_type": "text"
      },
      "source": [
        "<a href=\"https://colab.research.google.com/github/zbiswas3/Machine_learning_gatech/blob/master/boosting_posture.ipynb\" target=\"_parent\"><img src=\"https://colab.research.google.com/assets/colab-badge.svg\" alt=\"Open In Colab\"/></a>"
      ]
    },
    {
      "cell_type": "code",
      "execution_count": 2,
      "metadata": {
        "id": "rhewRgca7oKe"
      },
      "outputs": [],
      "source": [
        "%%capture\n",
        "\n",
        "import numpy as np\n",
        "import pandas as pd\n",
        "import seaborn as sns\n",
        "import sklearn\n",
        "import time\n",
        "from tqdm import tqdm\n",
        "import matplotlib.pyplot as plt\n",
        "%matplotlib inline\n",
        "\n",
        "from sklearn.tree import DecisionTreeClassifier\n",
        "from sklearn.ensemble import AdaBoostClassifier\n",
        "from sklearn.metrics import roc_curve, roc_auc_score, accuracy_score, confusion_matrix, classification_report, mean_squared_error\n",
        "from sklearn.model_selection import train_test_split, GridSearchCV, ShuffleSplit, learning_curve, validation_curve, RepeatedStratifiedKFold, cross_val_score\n",
        "from sklearn.preprocessing import StandardScaler, MinMaxScaler\n",
        "from sklearn.model_selection import learning_curve\n",
        "from sklearn.model_selection import ShuffleSplit\n",
        "from sklearn.impute import  SimpleImputer\n",
        "from sklearn.decomposition import PCA\n",
        "from sklearn.neighbors import KNeighborsClassifier\n",
        "\n",
        "import warnings\n",
        "warnings.filterwarnings('ignore')"
      ]
    },
    {
      "cell_type": "code",
      "execution_count": 3,
      "metadata": {
        "id": "qzgGSY5z9zn-"
      },
      "outputs": [],
      "source": [
        "sns.set(rc={'figure.figsize':(12,8.5)})\n",
        "sns.set_context('poster', font_scale=0.75)\n"
      ]
    },
    {
      "cell_type": "code",
      "execution_count": 4,
      "metadata": {
        "id": "urPpNMHd92UN"
      },
      "outputs": [],
      "source": [
        "np.random.seed(42)"
      ]
    },
    {
      "cell_type": "markdown",
      "metadata": {
        "id": "o3zzCyWkSayz"
      },
      "source": [
        "#INTRODUCTION"
      ]
    },
    {
      "cell_type": "markdown",
      "metadata": {
        "id": "xXSzxopj_RlA"
      },
      "source": [
        "## **Utils**"
      ]
    },
    {
      "cell_type": "code",
      "execution_count": 5,
      "metadata": {
        "id": "JarAhCGi_RlJ"
      },
      "outputs": [],
      "source": [
        "# validatiion curve\n",
        "def valid_plot(\n",
        "    X, \n",
        "    y, \n",
        "    param_range, \n",
        "    param_name, \n",
        "    estimator, \n",
        "    xlabel=\"parameter\", \n",
        "    ylabel=\"accuracy score\",  \n",
        "    title=\"Validation Curve\"\n",
        "    ):\n",
        "  train_scores, test_scores = validation_curve(\n",
        "      estimator,\n",
        "      X,\n",
        "      y,\n",
        "      param_name=param_name,\n",
        "      param_range=param_range,\n",
        "      scoring=\"accuracy\",\n",
        "      n_jobs=2,\n",
        "      cv=RepeatedStratifiedKFold(n_splits=5, n_repeats=2, random_state=42)\n",
        "  )\n",
        "  train_scores_mean = np.mean(train_scores, axis=1)\n",
        "  train_scores_std = np.std(train_scores, axis=1)\n",
        "  test_scores_mean = np.mean(test_scores, axis=1)\n",
        "  test_scores_std = np.std(test_scores, axis=1)\n",
        "\n",
        "  plt.title(title)\n",
        "  plt.xlabel(xlabel)\n",
        "  plt.ylabel(ylabel)\n",
        "  # plt.ylim(0.0, 1.1)\n",
        "  lw = 2\n",
        "  plt.plot(\n",
        "      param_range, train_scores_mean, label=\"Training score\", color=\"darkorange\", lw=lw\n",
        "  )\n",
        "  plt.fill_between(\n",
        "      param_range,\n",
        "      train_scores_mean - train_scores_std,\n",
        "      train_scores_mean + train_scores_std,\n",
        "      alpha=0.2,\n",
        "      color=\"darkorange\",\n",
        "      lw=lw,\n",
        "  )\n",
        "  plt.plot(\n",
        "      param_range, test_scores_mean, label=\"Cross-validation score\", color=\"navy\", lw=lw\n",
        "  )\n",
        "  plt.fill_between(\n",
        "      param_range,\n",
        "      test_scores_mean - test_scores_std,\n",
        "      test_scores_mean + test_scores_std,\n",
        "      alpha=0.2,\n",
        "      color=\"navy\",\n",
        "      lw=lw,\n",
        "  )\n",
        "  plt.legend(loc=\"best\")\n",
        "  return plt\n"
      ]
    },
    {
      "cell_type": "code",
      "execution_count": 6,
      "metadata": {
        "id": "Xok5F-Rs_RlK"
      },
      "outputs": [],
      "source": [
        "def plot_learning_curve(\n",
        "    estimator,\n",
        "    title,\n",
        "    X,\n",
        "    y,\n",
        "    axes=None,\n",
        "    ylim=None,\n",
        "    cv=None,\n",
        "    n_jobs=None,\n",
        "    train_sizes=np.linspace(0.1, 1.0, 5),\n",
        "    scoring='accuracy',\n",
        "):\n",
        "    \"\"\"\n",
        "    Generate 3 plots: the test and training learning curve, the training\n",
        "    samples vs fit times curve, the fit times vs score curve.\n",
        "\n",
        "    \"\"\"\n",
        "    if axes is None:\n",
        "        _, axes = plt.subplots(1, 3, figsize=(26, 8))\n",
        "\n",
        "    axes[0].set_title(title)\n",
        "    if ylim is not None:\n",
        "        axes[0].set_ylim(*ylim)\n",
        "    axes[0].set_xlabel(\"Training examples\")\n",
        "    axes[0].set_ylabel(\"Score\")\n",
        "\n",
        "    train_sizes, train_scores, test_scores, fit_times, score_times = learning_curve(\n",
        "        estimator,\n",
        "        X,\n",
        "        y,\n",
        "        cv=cv,\n",
        "        n_jobs=n_jobs,\n",
        "        train_sizes=train_sizes,\n",
        "        return_times=True,\n",
        "        scoring=scoring,\n",
        "    )\n",
        "    train_scores_mean = np.mean(train_scores, axis=1)\n",
        "    train_scores_std = np.std(train_scores, axis=1)\n",
        "    test_scores_mean = np.mean(test_scores, axis=1)\n",
        "    test_scores_std = np.std(test_scores, axis=1)\n",
        "    fit_times_mean = np.mean(fit_times, axis=1)\n",
        "    fit_times_std = np.std(fit_times, axis=1)\n",
        "    score_times_mean = np.mean(score_times, axis=1)\n",
        "    score_times_std = np.std(score_times, axis=1)\n",
        "\n",
        "    # Plot learning curve\n",
        "    axes[0].grid()\n",
        "    axes[0].fill_between(\n",
        "        train_sizes,\n",
        "        train_scores_mean - train_scores_std,\n",
        "        train_scores_mean + train_scores_std,\n",
        "        alpha=0.1,\n",
        "        color=\"r\",\n",
        "    )\n",
        "    axes[0].fill_between(\n",
        "        train_sizes,\n",
        "        test_scores_mean - test_scores_std,\n",
        "        test_scores_mean + test_scores_std,\n",
        "        alpha=0.1,\n",
        "        color=\"g\",\n",
        "    )\n",
        "    axes[0].plot(\n",
        "        train_sizes, train_scores_mean, \"o-\", color=\"r\", label=\"Training score\"\n",
        "    )\n",
        "    axes[0].plot(\n",
        "        train_sizes, test_scores_mean, \"o-\", color=\"g\", label=\"Validation score\"\n",
        "    )\n",
        "    axes[0].legend(loc=\"best\")\n",
        "\n",
        "    # Plot n_samples vs fit_times\n",
        "    axes[1].grid()\n",
        "    axes[1].plot(train_sizes, fit_times_mean, \"o-\")\n",
        "    axes[1].fill_between(\n",
        "        train_sizes,\n",
        "        fit_times_mean - fit_times_std,\n",
        "        fit_times_mean + fit_times_std,\n",
        "        alpha=0.1,\n",
        "    )\n",
        "    axes[1].set_xlabel(\"Training examples\")\n",
        "    axes[1].set_ylabel(\"fit_times\")\n",
        "    axes[1].set_title(\"Scalability of the model\")\n",
        "\n",
        "    # Plot fit_time vs score\n",
        "    fit_time_argsort = fit_times_mean.argsort()\n",
        "    fit_time_sorted = fit_times_mean[fit_time_argsort]\n",
        "    test_scores_mean_sorted = test_scores_mean[fit_time_argsort]\n",
        "    test_scores_std_sorted = test_scores_std[fit_time_argsort]\n",
        "    axes[2].grid()\n",
        "    axes[2].plot(fit_time_sorted, test_scores_mean_sorted, \"o-\")\n",
        "    axes[2].fill_between(\n",
        "        fit_time_sorted,\n",
        "        test_scores_mean_sorted - test_scores_std_sorted,\n",
        "        test_scores_mean_sorted + test_scores_std_sorted,\n",
        "        alpha=0.1,\n",
        "    )\n",
        "    axes[2].set_xlabel(\"fit_times\")\n",
        "    axes[2].set_ylabel(\"Score\")\n",
        "    axes[2].set_title(\"Performance of the model\")\n",
        "\n",
        "    return plt\n"
      ]
    },
    {
      "cell_type": "code",
      "execution_count": 7,
      "metadata": {
        "id": "hDd_K7WhVob7"
      },
      "outputs": [],
      "source": [
        "# Calculate bias and variance of the model\n",
        "def bias_var(y_test, y_pred):\n",
        "    mean_predictions = np.mean(y_pred, axis=0)\n",
        "    avg_bias = np.sum((mean_predictions - y_test)**2) / y_test.size\n",
        "    avg_var = np.sum((mean_predictions - y_pred)**2) / y_pred.size\n",
        "\n",
        "    return avg_var, avg_bias\n"
      ]
    },
    {
      "cell_type": "markdown",
      "metadata": {
        "id": "544fBj6qed1S"
      },
      "source": [
        "## data "
      ]
    },
    {
      "cell_type": "code",
      "execution_count": 10,
      "metadata": {
        "id": "Vb8BOZT0UepK"
      },
      "outputs": [],
      "source": [
        "%%capture\n",
        "!wget \"https://archive.ics.uci.edu/ml/machine-learning-databases/00405/Postures.zip\"\n",
        "!unzip 'Postures.zip'"
      ]
    },
    {
      "cell_type": "code",
      "execution_count": 11,
      "metadata": {
        "colab": {
          "base_uri": "https://localhost:8080/"
        },
        "id": "XMkD00vmwCsu",
        "outputId": "7852785a-6fb6-4fc2-dbda-3ceab990d37b"
      },
      "outputs": [
        {
          "output_type": "execute_result",
          "data": {
            "text/plain": [
              "(35143, 38)"
            ]
          },
          "metadata": {},
          "execution_count": 11
        }
      ],
      "source": [
        "data = pd.read_csv('Postures.csv')\n",
        "for val in list(data.columns.values):\n",
        "    data[val] = pd.to_numeric(data[val], errors='coerce')\n",
        "    \n",
        "# data=data.fillna(data.mean())\n",
        "data = data.sample(frac=0.45, random_state=42)\n",
        "data.shape\n"
      ]
    },
    {
      "cell_type": "markdown",
      "metadata": {
        "id": "EkKbuj3vekJb"
      },
      "source": [
        "## Data analysis"
      ]
    },
    {
      "cell_type": "code",
      "execution_count": 12,
      "metadata": {
        "id": "Ruf_rUbu1Xf8"
      },
      "outputs": [],
      "source": [
        "sim = SimpleImputer()"
      ]
    },
    {
      "cell_type": "code",
      "execution_count": 13,
      "metadata": {
        "id": "bgd2OBnsyiGa"
      },
      "outputs": [],
      "source": [
        "data = pd.DataFrame(sim.fit_transform(data), columns=data.columns)\n"
      ]
    },
    {
      "cell_type": "code",
      "execution_count": 14,
      "metadata": {
        "colab": {
          "base_uri": "https://localhost:8080/"
        },
        "id": "VUr0aqq2wWPw",
        "outputId": "6efa78a5-1db0-4904-935f-98b3b0455fc2"
      },
      "outputs": [
        {
          "output_type": "execute_result",
          "data": {
            "text/plain": [
              "array([3, 4, 2, 5, 1])"
            ]
          },
          "metadata": {},
          "execution_count": 14
        }
      ],
      "source": [
        "data = data[data.Class >0]\n",
        "data['Class'] = data['Class'].astype('int')\n",
        "data.Class.unique()"
      ]
    },
    {
      "cell_type": "code",
      "execution_count": 15,
      "metadata": {
        "colab": {
          "base_uri": "https://localhost:8080/"
        },
        "id": "2hDBJPX5tO46",
        "outputId": "6ecfeced-5312-4429-9eab-abf3fc078ca3"
      },
      "outputs": [
        {
          "output_type": "stream",
          "name": "stdout",
          "text": [
            "<class 'pandas.core.frame.DataFrame'>\n",
            "Int64Index: 35142 entries, 0 to 35142\n",
            "Data columns (total 38 columns):\n",
            " #   Column  Non-Null Count  Dtype  \n",
            "---  ------  --------------  -----  \n",
            " 0   Class   35142 non-null  int64  \n",
            " 1   User    35142 non-null  float64\n",
            " 2   X0      35142 non-null  float64\n",
            " 3   Y0      35142 non-null  float64\n",
            " 4   Z0      35142 non-null  float64\n",
            " 5   X1      35142 non-null  float64\n",
            " 6   Y1      35142 non-null  float64\n",
            " 7   Z1      35142 non-null  float64\n",
            " 8   X2      35142 non-null  float64\n",
            " 9   Y2      35142 non-null  float64\n",
            " 10  Z2      35142 non-null  float64\n",
            " 11  X3      35142 non-null  float64\n",
            " 12  Y3      35142 non-null  float64\n",
            " 13  Z3      35142 non-null  float64\n",
            " 14  X4      35142 non-null  float64\n",
            " 15  Y4      35142 non-null  float64\n",
            " 16  Z4      35142 non-null  float64\n",
            " 17  X5      35142 non-null  float64\n",
            " 18  Y5      35142 non-null  float64\n",
            " 19  Z5      35142 non-null  float64\n",
            " 20  X6      35142 non-null  float64\n",
            " 21  Y6      35142 non-null  float64\n",
            " 22  Z6      35142 non-null  float64\n",
            " 23  X7      35142 non-null  float64\n",
            " 24  Y7      35142 non-null  float64\n",
            " 25  Z7      35142 non-null  float64\n",
            " 26  X8      35142 non-null  float64\n",
            " 27  Y8      35142 non-null  float64\n",
            " 28  Z8      35142 non-null  float64\n",
            " 29  X9      35142 non-null  float64\n",
            " 30  Y9      35142 non-null  float64\n",
            " 31  Z9      35142 non-null  float64\n",
            " 32  X10     35142 non-null  float64\n",
            " 33  Y10     35142 non-null  float64\n",
            " 34  Z10     35142 non-null  float64\n",
            " 35  X11     35142 non-null  float64\n",
            " 36  Y11     35142 non-null  float64\n",
            " 37  Z11     35142 non-null  float64\n",
            "dtypes: float64(37), int64(1)\n",
            "memory usage: 10.5 MB\n"
          ]
        }
      ],
      "source": [
        "data.info()"
      ]
    },
    {
      "cell_type": "code",
      "execution_count": 16,
      "metadata": {
        "colab": {
          "base_uri": "https://localhost:8080/",
          "height": 518
        },
        "id": "y9Mu8OiKQmCG",
        "outputId": "ce07a28c-2733-4ee1-a5b6-f02178c0d70e"
      },
      "outputs": [
        {
          "output_type": "display_data",
          "data": {
            "image/png": "[encoded data removed]",
            "text/plain": [
              "<Figure size 864x612 with 1 Axes>"
            ]
          },
          "metadata": {}
        }
      ],
      "source": [
        "ax = data.Class.value_counts().plot(kind='bar')\n",
        "try:\n",
        "  ax.bar_label(ax.containers[0])\n",
        "except:\n",
        "  for p in ax.patches:\n",
        "    ax.annotate(str(p.get_height()), (p.get_x() * 1.005, p.get_height() * 1.005))\n",
        "plt.show()"
      ]
    },
    {
      "cell_type": "markdown",
      "metadata": {
        "id": "fVOO76Ige5Ef"
      },
      "source": [
        "## Data preprocessing"
      ]
    },
    {
      "cell_type": "code",
      "execution_count": 17,
      "metadata": {
        "colab": {
          "base_uri": "https://localhost:8080/",
          "height": 270
        },
        "id": "Lm3azi-8to-a",
        "outputId": "d0d04cff-67d4-47bd-b8d3-c73a8dada819"
      },
      "outputs": [
        {
          "output_type": "execute_result",
          "data": {
            "text/html": [
              "\n",
              "  <div id=\"df-726eef86-48b9-42d9-a210-fbd21e7f073d\">\n",
              "    <div class=\"colab-df-container\">\n",
              "      <div>\n",
              "<style scoped>\n",
              "    .dataframe tbody tr th:only-of-type {\n",
              "        vertical-align: middle;\n",
              "    }\n",
              "\n",
              "    .dataframe tbody tr th {\n",
              "        vertical-align: top;\n",
              "    }\n",
              "\n",
              "    .dataframe thead th {\n",
              "        text-align: right;\n",
              "    }\n",
              "</style>\n",
              "<table border=\"1\" class=\"dataframe\">\n",
              "  <thead>\n",
              "    <tr style=\"text-align: right;\">\n",
              "      <th></th>\n",
              "      <th>Class</th>\n",
              "      <th>User</th>\n",
              "      <th>X0</th>\n",
              "      <th>Y0</th>\n",
              "      <th>Z0</th>\n",
              "      <th>X1</th>\n",
              "      <th>Y1</th>\n",
              "      <th>Z1</th>\n",
              "      <th>X2</th>\n",
              "      <th>Y2</th>\n",
              "      <th>Z2</th>\n",
              "      <th>X3</th>\n",
              "      <th>Y3</th>\n",
              "      <th>Z3</th>\n",
              "      <th>X4</th>\n",
              "      <th>Y4</th>\n",
              "      <th>Z4</th>\n",
              "      <th>X5</th>\n",
              "      <th>Y5</th>\n",
              "      <th>Z5</th>\n",
              "      <th>X6</th>\n",
              "      <th>Y6</th>\n",
              "      <th>Z6</th>\n",
              "      <th>X7</th>\n",
              "      <th>Y7</th>\n",
              "      <th>Z7</th>\n",
              "      <th>X8</th>\n",
              "      <th>Y8</th>\n",
              "      <th>Z8</th>\n",
              "      <th>X9</th>\n",
              "      <th>Y9</th>\n",
              "      <th>Z9</th>\n",
              "      <th>X10</th>\n",
              "      <th>Y10</th>\n",
              "      <th>Z10</th>\n",
              "      <th>X11</th>\n",
              "      <th>Y11</th>\n",
              "      <th>Z11</th>\n",
              "    </tr>\n",
              "  </thead>\n",
              "  <tbody>\n",
              "    <tr>\n",
              "      <th>0</th>\n",
              "      <td>3</td>\n",
              "      <td>6.0</td>\n",
              "      <td>109.240478</td>\n",
              "      <td>44.899381</td>\n",
              "      <td>-60.024315</td>\n",
              "      <td>61.033350</td>\n",
              "      <td>85.559458</td>\n",
              "      <td>-18.295491</td>\n",
              "      <td>68.721592</td>\n",
              "      <td>0.169402</td>\n",
              "      <td>-66.863960</td>\n",
              "      <td>11.542282</td>\n",
              "      <td>84.467412</td>\n",
              "      <td>-33.672673</td>\n",
              "      <td>52.229240</td>\n",
              "      <td>136.226905</td>\n",
              "      <td>-13.461600</td>\n",
              "      <td>92.907674</td>\n",
              "      <td>26.103671</td>\n",
              "      <td>-62.525220</td>\n",
              "      <td>-9.119754</td>\n",
              "      <td>82.657635</td>\n",
              "      <td>-32.104225</td>\n",
              "      <td>44.219670</td>\n",
              "      <td>88.622517</td>\n",
              "      <td>-20.210009</td>\n",
              "      <td>48.058413</td>\n",
              "      <td>86.021193</td>\n",
              "      <td>-24.230812</td>\n",
              "      <td>54.593085</td>\n",
              "      <td>80.971477</td>\n",
              "      <td>-27.625913</td>\n",
              "      <td>53.191971</td>\n",
              "      <td>74.279928</td>\n",
              "      <td>-28.846752</td>\n",
              "      <td>-41.541234</td>\n",
              "      <td>24.841743</td>\n",
              "      <td>9.02597</td>\n",
              "    </tr>\n",
              "    <tr>\n",
              "      <th>1</th>\n",
              "      <td>4</td>\n",
              "      <td>11.0</td>\n",
              "      <td>24.330178</td>\n",
              "      <td>101.140373</td>\n",
              "      <td>1.816550</td>\n",
              "      <td>55.473059</td>\n",
              "      <td>131.027370</td>\n",
              "      <td>13.658764</td>\n",
              "      <td>16.883000</td>\n",
              "      <td>148.501225</td>\n",
              "      <td>6.423454</td>\n",
              "      <td>114.212940</td>\n",
              "      <td>38.602086</td>\n",
              "      <td>-61.127214</td>\n",
              "      <td>72.265570</td>\n",
              "      <td>12.157565</td>\n",
              "      <td>-56.796850</td>\n",
              "      <td>92.830339</td>\n",
              "      <td>28.800005</td>\n",
              "      <td>-60.120643</td>\n",
              "      <td>52.767190</td>\n",
              "      <td>93.407573</td>\n",
              "      <td>-0.229293</td>\n",
              "      <td>44.219670</td>\n",
              "      <td>88.622517</td>\n",
              "      <td>-20.210009</td>\n",
              "      <td>48.058413</td>\n",
              "      <td>86.021193</td>\n",
              "      <td>-24.230812</td>\n",
              "      <td>54.593085</td>\n",
              "      <td>80.971477</td>\n",
              "      <td>-27.625913</td>\n",
              "      <td>53.191971</td>\n",
              "      <td>74.279928</td>\n",
              "      <td>-28.846752</td>\n",
              "      <td>-41.541234</td>\n",
              "      <td>24.841743</td>\n",
              "      <td>9.02597</td>\n",
              "    </tr>\n",
              "    <tr>\n",
              "      <th>2</th>\n",
              "      <td>4</td>\n",
              "      <td>13.0</td>\n",
              "      <td>63.498073</td>\n",
              "      <td>17.176245</td>\n",
              "      <td>-60.413507</td>\n",
              "      <td>74.682024</td>\n",
              "      <td>48.333237</td>\n",
              "      <td>-57.479898</td>\n",
              "      <td>32.838805</td>\n",
              "      <td>147.810305</td>\n",
              "      <td>-12.697328</td>\n",
              "      <td>50.741438</td>\n",
              "      <td>137.808138</td>\n",
              "      <td>-16.903903</td>\n",
              "      <td>71.460231</td>\n",
              "      <td>75.724995</td>\n",
              "      <td>-57.773480</td>\n",
              "      <td>32.572369</td>\n",
              "      <td>99.871957</td>\n",
              "      <td>-8.085566</td>\n",
              "      <td>53.522974</td>\n",
              "      <td>97.148466</td>\n",
              "      <td>-11.820767</td>\n",
              "      <td>44.219670</td>\n",
              "      <td>88.622517</td>\n",
              "      <td>-20.210009</td>\n",
              "      <td>48.058413</td>\n",
              "      <td>86.021193</td>\n",
              "      <td>-24.230812</td>\n",
              "      <td>54.593085</td>\n",
              "      <td>80.971477</td>\n",
              "      <td>-27.625913</td>\n",
              "      <td>53.191971</td>\n",
              "      <td>74.279928</td>\n",
              "      <td>-28.846752</td>\n",
              "      <td>-41.541234</td>\n",
              "      <td>24.841743</td>\n",
              "      <td>9.02597</td>\n",
              "    </tr>\n",
              "    <tr>\n",
              "      <th>3</th>\n",
              "      <td>2</td>\n",
              "      <td>14.0</td>\n",
              "      <td>86.767860</td>\n",
              "      <td>74.450010</td>\n",
              "      <td>-46.187383</td>\n",
              "      <td>57.077763</td>\n",
              "      <td>99.699882</td>\n",
              "      <td>-13.512337</td>\n",
              "      <td>52.828546</td>\n",
              "      <td>151.329974</td>\n",
              "      <td>12.972557</td>\n",
              "      <td>59.619855</td>\n",
              "      <td>36.147365</td>\n",
              "      <td>-56.078468</td>\n",
              "      <td>66.259513</td>\n",
              "      <td>144.173187</td>\n",
              "      <td>-6.390248</td>\n",
              "      <td>16.861316</td>\n",
              "      <td>143.212475</td>\n",
              "      <td>34.183860</td>\n",
              "      <td>13.494791</td>\n",
              "      <td>94.610410</td>\n",
              "      <td>12.191463</td>\n",
              "      <td>-2.985673</td>\n",
              "      <td>123.914195</td>\n",
              "      <td>27.534306</td>\n",
              "      <td>71.138877</td>\n",
              "      <td>56.656104</td>\n",
              "      <td>-49.460886</td>\n",
              "      <td>-9.180367</td>\n",
              "      <td>80.449669</td>\n",
              "      <td>13.646088</td>\n",
              "      <td>38.404759</td>\n",
              "      <td>106.030959</td>\n",
              "      <td>0.419250</td>\n",
              "      <td>-41.541234</td>\n",
              "      <td>24.841743</td>\n",
              "      <td>9.02597</td>\n",
              "    </tr>\n",
              "    <tr>\n",
              "      <th>4</th>\n",
              "      <td>5</td>\n",
              "      <td>14.0</td>\n",
              "      <td>-2.025544</td>\n",
              "      <td>99.352134</td>\n",
              "      <td>6.365841</td>\n",
              "      <td>76.213345</td>\n",
              "      <td>33.631282</td>\n",
              "      <td>-41.670484</td>\n",
              "      <td>87.056709</td>\n",
              "      <td>61.502402</td>\n",
              "      <td>-59.262181</td>\n",
              "      <td>-29.853791</td>\n",
              "      <td>77.790630</td>\n",
              "      <td>-17.576383</td>\n",
              "      <td>26.685505</td>\n",
              "      <td>136.893558</td>\n",
              "      <td>-31.884217</td>\n",
              "      <td>55.130637</td>\n",
              "      <td>129.133685</td>\n",
              "      <td>-43.232234</td>\n",
              "      <td>61.867149</td>\n",
              "      <td>101.286413</td>\n",
              "      <td>-6.095230</td>\n",
              "      <td>-2.516153</td>\n",
              "      <td>125.257435</td>\n",
              "      <td>-42.207798</td>\n",
              "      <td>28.077631</td>\n",
              "      <td>108.108797</td>\n",
              "      <td>11.555042</td>\n",
              "      <td>-21.859351</td>\n",
              "      <td>103.919267</td>\n",
              "      <td>-55.090304</td>\n",
              "      <td>53.191971</td>\n",
              "      <td>74.279928</td>\n",
              "      <td>-28.846752</td>\n",
              "      <td>-41.541234</td>\n",
              "      <td>24.841743</td>\n",
              "      <td>9.02597</td>\n",
              "    </tr>\n",
              "  </tbody>\n",
              "</table>\n",
              "</div>\n",
              "      <button class=\"colab-df-convert\" onclick=\"convertToInteractive('df-726eef86-48b9-42d9-a210-fbd21e7f073d')\"\n",
              "              title=\"Convert this dataframe to an interactive table.\"\n",
              "              style=\"display:none;\">\n",
              "        \n",
              "  <svg xmlns=\"http://www.w3.org/2000/svg\" height=\"24px\"viewBox=\"0 0 24 24\"\n",
              "       width=\"24px\">\n",
              "    <path d=\"M0 0h24v24H0V0z\" fill=\"none\"/>\n",
              "    <path d=\"M18.56 5.44l.94 2.06.94-2.06 2.06-.94-2.06-.94-.94-2.06-.94 2.06-2.06.94zm-11 1L8.5 8.5l.94-2.06 2.06-.94-2.06-.94L8.5 2.5l-.94 2.06-2.06.94zm10 10l.94 2.06.94-2.06 2.06-.94-2.06-.94-.94-2.06-.94 2.06-2.06.94z\"/><path d=\"M17.41 7.96l-1.37-1.37c-.4-.4-.92-.59-1.43-.59-.52 0-1.04.2-1.43.59L10.3 9.45l-7.72 7.72c-.78.78-.78 2.05 0 2.83L4 21.41c.39.39.9.59 1.41.59.51 0 1.02-.2 1.41-.59l7.78-7.78 2.81-2.81c.8-.78.8-2.07 0-2.86zM5.41 20L4 18.59l7.72-7.72 1.47 1.35L5.41 20z\"/>\n",
              "  </svg>\n",
              "      </button>\n",
              "      \n",
              "  <style>\n",
              "    .colab-df-container {\n",
              "      display:flex;\n",
              "      flex-wrap:wrap;\n",
              "      gap: 12px;\n",
              "    }\n",
              "\n",
              "    .colab-df-convert {\n",
              "      background-color: #E8F0FE;\n",
              "      border: none;\n",
              "      border-radius: 50%;\n",
              "      cursor: pointer;\n",
              "      display: none;\n",
              "      fill: #1967D2;\n",
              "      height: 32px;\n",
              "      padding: 0 0 0 0;\n",
              "      width: 32px;\n",
              "    }\n",
              "\n",
              "    .colab-df-convert:hover {\n",
              "      background-color: #E2EBFA;\n",
              "      box-shadow: 0px 1px 2px rgba(60, 64, 67, 0.3), 0px 1px 3px 1px rgba(60, 64, 67, 0.15);\n",
              "      fill: #174EA6;\n",
              "    }\n",
              "\n",
              "    [theme=dark] .colab-df-convert {\n",
              "      background-color: #3B4455;\n",
              "      fill: #D2E3FC;\n",
              "    }\n",
              "\n",
              "    [theme=dark] .colab-df-convert:hover {\n",
              "      background-color: #434B5C;\n",
              "      box-shadow: 0px 1px 3px 1px rgba(0, 0, 0, 0.15);\n",
              "      filter: drop-shadow(0px 1px 2px rgba(0, 0, 0, 0.3));\n",
              "      fill: #FFFFFF;\n",
              "    }\n",
              "  </style>\n",
              "\n",
              "      <script>\n",
              "        const buttonEl =\n",
              "          document.querySelector('#df-726eef86-48b9-42d9-a210-fbd21e7f073d button.colab-df-convert');\n",
              "        buttonEl.style.display =\n",
              "          google.colab.kernel.accessAllowed ? 'block' : 'none';\n",
              "\n",
              "        async function convertToInteractive(key) {\n",
              "          const element = document.querySelector('#df-726eef86-48b9-42d9-a210-fbd21e7f073d');\n",
              "          const dataTable =\n",
              "            await google.colab.kernel.invokeFunction('convertToInteractive',\n",
              "                                                     [key], {});\n",
              "          if (!dataTable) return;\n",
              "\n",
              "          const docLinkHtml = 'Like what you see? Visit the ' +\n",
              "            '<a target=\"_blank\" href=https://colab.research.google.com/notebooks/data_table.ipynb>data table notebook</a>'\n",
              "            + ' to learn more about interactive tables.';\n",
              "          element.innerHTML = '';\n",
              "          dataTable['output_type'] = 'display_data';\n",
              "          await google.colab.output.renderOutput(dataTable, element);\n",
              "          const docLink = document.createElement('div');\n",
              "          docLink.innerHTML = docLinkHtml;\n",
              "          element.appendChild(docLink);\n",
              "        }\n",
              "      </script>\n",
              "    </div>\n",
              "  </div>\n",
              "  "
            ],
            "text/plain": [
              "   Class  User          X0  ...        X11        Y11      Z11\n",
              "0      3   6.0  109.240478  ... -41.541234  24.841743  9.02597\n",
              "1      4  11.0   24.330178  ... -41.541234  24.841743  9.02597\n",
              "2      4  13.0   63.498073  ... -41.541234  24.841743  9.02597\n",
              "3      2  14.0   86.767860  ... -41.541234  24.841743  9.02597\n",
              "4      5  14.0   -2.025544  ... -41.541234  24.841743  9.02597\n",
              "\n",
              "[5 rows x 38 columns]"
            ]
          },
          "metadata": {},
          "execution_count": 17
        }
      ],
      "source": [
        "cat_columns = data.select_dtypes('object').columns.tolist()\n",
        "for col in cat_columns:\n",
        "  data[col] = data[col].astype('category').cat.codes\n",
        "data.head()"
      ]
    },
    {
      "cell_type": "markdown",
      "metadata": {
        "id": "kYTVooqUfEdL"
      },
      "source": [
        "## Data split"
      ]
    },
    {
      "cell_type": "code",
      "execution_count": 18,
      "metadata": {
        "id": "yUmLOAyT_Zzl"
      },
      "outputs": [],
      "source": [
        "X, X_test, y, y_test = train_test_split(data[data.columns[2:]], data[data.columns[0]].values, test_size=0.33, random_state=42)"
      ]
    },
    {
      "cell_type": "code",
      "execution_count": 19,
      "metadata": {
        "colab": {
          "base_uri": "https://localhost:8080/"
        },
        "id": "BQCo5ViXALli",
        "outputId": "9426db86-72f0-4bb9-f6a5-553d8a943330"
      },
      "outputs": [
        {
          "output_type": "execute_result",
          "data": {
            "text/plain": [
              "(23545, 36)"
            ]
          },
          "metadata": {},
          "execution_count": 19
        }
      ],
      "source": [
        "X.shape"
      ]
    },
    {
      "cell_type": "markdown",
      "metadata": {
        "id": "Z4KK9_vO3odf"
      },
      "source": [
        "# ADABOOST Classification\n"
      ]
    },
    {
      "cell_type": "markdown",
      "metadata": {
        "id": "Un5mylrefIw9"
      },
      "source": [
        "## Gridsearch cross validation"
      ]
    },
    {
      "cell_type": "code",
      "execution_count": null,
      "metadata": {
        "id": "AN0XwdXmPPZ0",
        "colab": {
          "base_uri": "https://localhost:8080/"
        },
        "outputId": "dd3e47da-0765-4cdd-ca8a-6729a22f8135"
      },
      "outputs": [
        {
          "metadata": {
            "tags": null
          },
          "name": "stdout",
          "output_type": "stream",
          "text": [
            "Fitting 10 folds for each of 12 candidates, totalling 120 fits\n"
          ]
        }
      ],
      "source": [
        "%%time\n",
        "# dt_1 =DecisionTreeClassifier(criterion='entropy', max_depth=4)\n",
        "dt_1 = DecisionTreeClassifier(criterion='entropy', max_depth=5)\n",
        "# dt_3 = DecisionTreeClassifier(criterion='entropy', max_depth=6)\n",
        "\n",
        "model = AdaBoostClassifier(random_state=42)\n",
        "# define the grid of values to search\n",
        "grid = dict()\n",
        "grid['base_estimator'] = [dt_1]\n",
        "grid['n_estimators'] = range(50, 201, 50)\n",
        "grid['learning_rate'] = [1, 0.5, 0.1]\n",
        "# define the evaluation procedure\n",
        "cv = RepeatedStratifiedKFold(n_splits=5, n_repeats=2, random_state=42)\n",
        "\n",
        "# define the grid search procedure\n",
        "grid_search = GridSearchCV(estimator=model, param_grid=grid, n_jobs=-1, cv=cv, scoring='accuracy', verbose=10)\n",
        "# execute the grid search\n",
        "grid_result = grid_search.fit(X, y)\n",
        "# summarize the best score and configuration\n",
        "print(\"Best: %f using %s\" % (grid_result.best_score_, grid_result.best_params_))\n",
        "# summarize all scores that were evaluated\n",
        "means = grid_result.cv_results_['mean_test_score']\n",
        "stds = grid_result.cv_results_['std_test_score']\n",
        "params = grid_result.cv_results_['params']\n",
        "for mean, stdev, param in zip(means, stds, params):\n",
        "    print(\"%f (%f) with: %r\" % (mean, stdev, param))\n"
      ]
    },
    {
      "cell_type": "code",
      "execution_count": null,
      "metadata": {
        "colab": {
          "background_save": true,
          "base_uri": "https://localhost:8080/"
        },
        "id": "DHDbj_XcPPfo",
        "outputId": "0669a288-200d-4250-ea8c-56a9a9ea987b"
      },
      "outputs": [
        {
          "name": "stdout",
          "output_type": "stream",
          "text": [
            "Fitting 10 folds for each of 12 candidates, totalling 120 fits\n",
            "Best: 0.957252 using {'base_estimator': DecisionTreeClassifier(criterion='entropy', max_depth=6), 'learning_rate': 1, 'n_estimators': 200}\n",
            "0.913315 (0.004826) with: {'base_estimator': DecisionTreeClassifier(criterion='entropy', max_depth=6), 'learning_rate': 1, 'n_estimators': 50}\n",
            "0.938118 (0.002707) with: {'base_estimator': DecisionTreeClassifier(criterion='entropy', max_depth=6), 'learning_rate': 1, 'n_estimators': 100}\n",
            "0.950223 (0.002475) with: {'base_estimator': DecisionTreeClassifier(criterion='entropy', max_depth=6), 'learning_rate': 1, 'n_estimators': 150}\n",
            "0.957252 (0.002262) with: {'base_estimator': DecisionTreeClassifier(criterion='entropy', max_depth=6), 'learning_rate': 1, 'n_estimators': 200}\n",
            "0.904035 (0.009635) with: {'base_estimator': DecisionTreeClassifier(criterion='entropy', max_depth=6), 'learning_rate': 0.5, 'n_estimators': 50}\n",
            "0.924421 (0.006510) with: {'base_estimator': DecisionTreeClassifier(criterion='entropy', max_depth=6), 'learning_rate': 0.5, 'n_estimators': 100}\n",
            "0.933638 (0.005472) with: {'base_estimator': DecisionTreeClassifier(criterion='entropy', max_depth=6), 'learning_rate': 0.5, 'n_estimators': 150}\n",
            "0.939286 (0.004691) with: {'base_estimator': DecisionTreeClassifier(criterion='entropy', max_depth=6), 'learning_rate': 0.5, 'n_estimators': 200}\n",
            "0.929603 (0.007882) with: {'base_estimator': DecisionTreeClassifier(criterion='entropy', max_depth=6), 'learning_rate': 0.1, 'n_estimators': 50}\n",
            "0.929709 (0.005772) with: {'base_estimator': DecisionTreeClassifier(criterion='entropy', max_depth=6), 'learning_rate': 0.1, 'n_estimators': 100}\n",
            "0.928010 (0.004153) with: {'base_estimator': DecisionTreeClassifier(criterion='entropy', max_depth=6), 'learning_rate': 0.1, 'n_estimators': 150}\n",
            "0.926460 (0.003939) with: {'base_estimator': DecisionTreeClassifier(criterion='entropy', max_depth=6), 'learning_rate': 0.1, 'n_estimators': 200}\n",
            "CPU times: user 5min 15s, sys: 6.72 s, total: 5min 22s\n",
            "Wall time: 3h 16min 32s\n"
          ]
        }
      ],
      "source": [
        "%%time\n",
        "# dt_1 =DecisionTreeClassifier(criterion='entropy', max_depth=4)\n",
        "# dt_2 = DecisionTreeClassifier(criterion='entropy', max_depth=5)\n",
        "dt_1 = DecisionTreeClassifier(criterion='entropy', max_depth=6)\n",
        "\n",
        "model = AdaBoostClassifier(random_state=42)\n",
        "# define the grid of values to search\n",
        "grid = dict()\n",
        "grid['base_estimator'] = [dt_1]\n",
        "grid['n_estimators'] = range(50, 201, 50)\n",
        "grid['learning_rate'] = [1, 0.5, 0.1]\n",
        "# define the evaluation procedure\n",
        "cv = RepeatedStratifiedKFold(n_splits=5, n_repeats=2, random_state=42)\n",
        "\n",
        "# define the grid search procedure\n",
        "grid_search = GridSearchCV(estimator=model, param_grid=grid, n_jobs=-1, cv=cv, scoring='accuracy', verbose=10)\n",
        "# execute the grid search\n",
        "grid_result = grid_search.fit(X, y)\n",
        "# summarize the best score and configuration\n",
        "print(\"Best: %f using %s\" % (grid_result.best_score_, grid_result.best_params_))\n",
        "# summarize all scores that were evaluated\n",
        "means = grid_result.cv_results_['mean_test_score']\n",
        "stds = grid_result.cv_results_['std_test_score']\n",
        "params = grid_result.cv_results_['params']\n",
        "for mean, stdev, param in zip(means, stds, params):\n",
        "    print(\"%f (%f) with: %r\" % (mean, stdev, param))\n"
      ]
    },
    {
      "cell_type": "code",
      "execution_count": null,
      "metadata": {
        "id": "mfMM-h6ZEzHc"
      },
      "outputs": [],
      "source": [
        "# plt.plot(\n",
        "#     list(grid[\"n_estimators\"]),np.array(means).reshape((-1, 6)).T, 'o-',)\n",
        "# plt.legend([f\"max_depth$={d}$ & $lr={l}$\" for d in [1,2] for l in grid[\"learning_rate\"]])\n",
        "# plt.title(\"Grid Search Scores\")\n",
        "# plt.xlabel(\"n_estimators\")\n",
        "# plt.ylabel(\"accuracy score\")\n",
        "# plt.show()"
      ]
    },
    {
      "cell_type": "markdown",
      "metadata": {
        "id": "jafm-rWufRtM"
      },
      "source": [
        "## Validation Curve"
      ]
    },
    {
      "cell_type": "code",
      "execution_count": null,
      "metadata": {
        "colab": {
          "background_save": true
        },
        "id": "b7G3OZbZwddg"
      },
      "outputs": [],
      "source": [
        "estimator=AdaBoostClassifier(base_estimator=DecisionTreeClassifier(criterion='entropy', max_depth=6), learning_rate=1)"
      ]
    },
    {
      "cell_type": "code",
      "execution_count": 23,
      "metadata": {
        "colab": {
          "base_uri": "https://localhost:8080/",
          "height": 380
        },
        "id": "5hH60TSRN25o",
        "outputId": "8bec45d9-b096-44ff-9aaa-493d85f7b54d"
      },
      "outputs": [
        {
          "output_type": "error",
          "ename": "KeyboardInterrupt",
          "evalue": "ignored",
          "traceback": [
            "\u001b[0;31m---------------------------------------------------------------------------\u001b[0m",
            "\u001b[0;31mKeyboardInterrupt\u001b[0m                         Traceback (most recent call last)",
            "\u001b[0;32m<ipython-input-23-57ac4e270324>\u001b[0m in \u001b[0;36m<module>\u001b[0;34m()\u001b[0m\n\u001b[0;32m----> 1\u001b[0;31m \u001b[0mget_ipython\u001b[0m\u001b[0;34m(\u001b[0m\u001b[0;34m)\u001b[0m\u001b[0;34m.\u001b[0m\u001b[0mrun_cell_magic\u001b[0m\u001b[0;34m(\u001b[0m\u001b[0;34m'time'\u001b[0m\u001b[0;34m,\u001b[0m \u001b[0;34m''\u001b[0m\u001b[0;34m,\u001b[0m \u001b[0;34m'valid_plot(    \\n    X, \\n    y, \\n    param_range=range(50, 201, 50), \\n    param_name=\\'n_estimators\\', \\n    estimator=estimator,\\n    xlabel=\"n_estimators\",\\n    )\\nplt.show()'\u001b[0m\u001b[0;34m)\u001b[0m\u001b[0;34m\u001b[0m\u001b[0;34m\u001b[0m\u001b[0m\n\u001b[0m",
            "\u001b[0;32m/usr/local/lib/python3.7/dist-packages/IPython/core/interactiveshell.py\u001b[0m in \u001b[0;36mrun_cell_magic\u001b[0;34m(self, magic_name, line, cell)\u001b[0m\n\u001b[1;32m   2115\u001b[0m             \u001b[0mmagic_arg_s\u001b[0m \u001b[0;34m=\u001b[0m \u001b[0mself\u001b[0m\u001b[0;34m.\u001b[0m\u001b[0mvar_expand\u001b[0m\u001b[0;34m(\u001b[0m\u001b[0mline\u001b[0m\u001b[0;34m,\u001b[0m \u001b[0mstack_depth\u001b[0m\u001b[0;34m)\u001b[0m\u001b[0;34m\u001b[0m\u001b[0;34m\u001b[0m\u001b[0m\n\u001b[1;32m   2116\u001b[0m             \u001b[0;32mwith\u001b[0m \u001b[0mself\u001b[0m\u001b[0;34m.\u001b[0m\u001b[0mbuiltin_trap\u001b[0m\u001b[0;34m:\u001b[0m\u001b[0;34m\u001b[0m\u001b[0;34m\u001b[0m\u001b[0m\n\u001b[0;32m-> 2117\u001b[0;31m                 \u001b[0mresult\u001b[0m \u001b[0;34m=\u001b[0m \u001b[0mfn\u001b[0m\u001b[0;34m(\u001b[0m\u001b[0mmagic_arg_s\u001b[0m\u001b[0;34m,\u001b[0m \u001b[0mcell\u001b[0m\u001b[0;34m)\u001b[0m\u001b[0;34m\u001b[0m\u001b[0;34m\u001b[0m\u001b[0m\n\u001b[0m\u001b[1;32m   2118\u001b[0m             \u001b[0;32mreturn\u001b[0m \u001b[0mresult\u001b[0m\u001b[0;34m\u001b[0m\u001b[0;34m\u001b[0m\u001b[0m\n\u001b[1;32m   2119\u001b[0m \u001b[0;34m\u001b[0m\u001b[0m\n",
            "\u001b[0;32m<decorator-gen-53>\u001b[0m in \u001b[0;36mtime\u001b[0;34m(self, line, cell, local_ns)\u001b[0m\n",
            "\u001b[0;32m/usr/local/lib/python3.7/dist-packages/IPython/core/magic.py\u001b[0m in \u001b[0;36m<lambda>\u001b[0;34m(f, *a, **k)\u001b[0m\n\u001b[1;32m    186\u001b[0m     \u001b[0;31m# but it's overkill for just that one bit of state.\u001b[0m\u001b[0;34m\u001b[0m\u001b[0;34m\u001b[0m\u001b[0;34m\u001b[0m\u001b[0m\n\u001b[1;32m    187\u001b[0m     \u001b[0;32mdef\u001b[0m \u001b[0mmagic_deco\u001b[0m\u001b[0;34m(\u001b[0m\u001b[0marg\u001b[0m\u001b[0;34m)\u001b[0m\u001b[0;34m:\u001b[0m\u001b[0;34m\u001b[0m\u001b[0;34m\u001b[0m\u001b[0m\n\u001b[0;32m--> 188\u001b[0;31m         \u001b[0mcall\u001b[0m \u001b[0;34m=\u001b[0m \u001b[0;32mlambda\u001b[0m \u001b[0mf\u001b[0m\u001b[0;34m,\u001b[0m \u001b[0;34m*\u001b[0m\u001b[0ma\u001b[0m\u001b[0;34m,\u001b[0m \u001b[0;34m**\u001b[0m\u001b[0mk\u001b[0m\u001b[0;34m:\u001b[0m \u001b[0mf\u001b[0m\u001b[0;34m(\u001b[0m\u001b[0;34m*\u001b[0m\u001b[0ma\u001b[0m\u001b[0;34m,\u001b[0m \u001b[0;34m**\u001b[0m\u001b[0mk\u001b[0m\u001b[0;34m)\u001b[0m\u001b[0;34m\u001b[0m\u001b[0;34m\u001b[0m\u001b[0m\n\u001b[0m\u001b[1;32m    189\u001b[0m \u001b[0;34m\u001b[0m\u001b[0m\n\u001b[1;32m    190\u001b[0m         \u001b[0;32mif\u001b[0m \u001b[0mcallable\u001b[0m\u001b[0;34m(\u001b[0m\u001b[0marg\u001b[0m\u001b[0;34m)\u001b[0m\u001b[0;34m:\u001b[0m\u001b[0;34m\u001b[0m\u001b[0;34m\u001b[0m\u001b[0m\n",
            "\u001b[0;32m/usr/local/lib/python3.7/dist-packages/IPython/core/magics/execution.py\u001b[0m in \u001b[0;36mtime\u001b[0;34m(self, line, cell, local_ns)\u001b[0m\n\u001b[1;32m   1191\u001b[0m         \u001b[0;32melse\u001b[0m\u001b[0;34m:\u001b[0m\u001b[0;34m\u001b[0m\u001b[0;34m\u001b[0m\u001b[0m\n\u001b[1;32m   1192\u001b[0m             \u001b[0mst\u001b[0m \u001b[0;34m=\u001b[0m \u001b[0mclock2\u001b[0m\u001b[0;34m(\u001b[0m\u001b[0;34m)\u001b[0m\u001b[0;34m\u001b[0m\u001b[0;34m\u001b[0m\u001b[0m\n\u001b[0;32m-> 1193\u001b[0;31m             \u001b[0mexec\u001b[0m\u001b[0;34m(\u001b[0m\u001b[0mcode\u001b[0m\u001b[0;34m,\u001b[0m \u001b[0mglob\u001b[0m\u001b[0;34m,\u001b[0m \u001b[0mlocal_ns\u001b[0m\u001b[0;34m)\u001b[0m\u001b[0;34m\u001b[0m\u001b[0;34m\u001b[0m\u001b[0m\n\u001b[0m\u001b[1;32m   1194\u001b[0m             \u001b[0mend\u001b[0m \u001b[0;34m=\u001b[0m \u001b[0mclock2\u001b[0m\u001b[0;34m(\u001b[0m\u001b[0;34m)\u001b[0m\u001b[0;34m\u001b[0m\u001b[0;34m\u001b[0m\u001b[0m\n\u001b[1;32m   1195\u001b[0m             \u001b[0mout\u001b[0m \u001b[0;34m=\u001b[0m \u001b[0;32mNone\u001b[0m\u001b[0;34m\u001b[0m\u001b[0;34m\u001b[0m\u001b[0m\n",
            "\u001b[0;32m<timed exec>\u001b[0m in \u001b[0;36m<module>\u001b[0;34m()\u001b[0m\n",
            "\u001b[0;32m<ipython-input-5-b89abeb9ffaf>\u001b[0m in \u001b[0;36mvalid_plot\u001b[0;34m(X, y, param_range, param_name, estimator, xlabel, ylabel, title)\u001b[0m\n\u001b[1;32m     18\u001b[0m       \u001b[0mscoring\u001b[0m\u001b[0;34m=\u001b[0m\u001b[0;34m\"accuracy\"\u001b[0m\u001b[0;34m,\u001b[0m\u001b[0;34m\u001b[0m\u001b[0;34m\u001b[0m\u001b[0m\n\u001b[1;32m     19\u001b[0m       \u001b[0mn_jobs\u001b[0m\u001b[0;34m=\u001b[0m\u001b[0;36m2\u001b[0m\u001b[0;34m,\u001b[0m\u001b[0;34m\u001b[0m\u001b[0;34m\u001b[0m\u001b[0m\n\u001b[0;32m---> 20\u001b[0;31m       \u001b[0mcv\u001b[0m\u001b[0;34m=\u001b[0m\u001b[0mRepeatedStratifiedKFold\u001b[0m\u001b[0;34m(\u001b[0m\u001b[0mn_splits\u001b[0m\u001b[0;34m=\u001b[0m\u001b[0;36m5\u001b[0m\u001b[0;34m,\u001b[0m \u001b[0mn_repeats\u001b[0m\u001b[0;34m=\u001b[0m\u001b[0;36m2\u001b[0m\u001b[0;34m,\u001b[0m \u001b[0mrandom_state\u001b[0m\u001b[0;34m=\u001b[0m\u001b[0;36m42\u001b[0m\u001b[0;34m)\u001b[0m\u001b[0;34m\u001b[0m\u001b[0;34m\u001b[0m\u001b[0m\n\u001b[0m\u001b[1;32m     21\u001b[0m   )\n\u001b[1;32m     22\u001b[0m   \u001b[0mtrain_scores_mean\u001b[0m \u001b[0;34m=\u001b[0m \u001b[0mnp\u001b[0m\u001b[0;34m.\u001b[0m\u001b[0mmean\u001b[0m\u001b[0;34m(\u001b[0m\u001b[0mtrain_scores\u001b[0m\u001b[0;34m,\u001b[0m \u001b[0maxis\u001b[0m\u001b[0;34m=\u001b[0m\u001b[0;36m1\u001b[0m\u001b[0;34m)\u001b[0m\u001b[0;34m\u001b[0m\u001b[0;34m\u001b[0m\u001b[0m\n",
            "\u001b[0;32m/usr/local/lib/python3.7/dist-packages/sklearn/model_selection/_validation.py\u001b[0m in \u001b[0;36mvalidation_curve\u001b[0;34m(estimator, X, y, param_name, param_range, groups, cv, scoring, n_jobs, pre_dispatch, verbose, error_score, fit_params)\u001b[0m\n\u001b[1;32m   1843\u001b[0m         )\n\u001b[1;32m   1844\u001b[0m         \u001b[0;31m# NOTE do not change order of iteration to allow one time cv splitters\u001b[0m\u001b[0;34m\u001b[0m\u001b[0;34m\u001b[0m\u001b[0;34m\u001b[0m\u001b[0m\n\u001b[0;32m-> 1845\u001b[0;31m         \u001b[0;32mfor\u001b[0m \u001b[0mtrain\u001b[0m\u001b[0;34m,\u001b[0m \u001b[0mtest\u001b[0m \u001b[0;32min\u001b[0m \u001b[0mcv\u001b[0m\u001b[0;34m.\u001b[0m\u001b[0msplit\u001b[0m\u001b[0;34m(\u001b[0m\u001b[0mX\u001b[0m\u001b[0;34m,\u001b[0m \u001b[0my\u001b[0m\u001b[0;34m,\u001b[0m \u001b[0mgroups\u001b[0m\u001b[0;34m)\u001b[0m\u001b[0;34m\u001b[0m\u001b[0;34m\u001b[0m\u001b[0m\n\u001b[0m\u001b[1;32m   1846\u001b[0m         \u001b[0;32mfor\u001b[0m \u001b[0mv\u001b[0m \u001b[0;32min\u001b[0m \u001b[0mparam_range\u001b[0m\u001b[0;34m\u001b[0m\u001b[0;34m\u001b[0m\u001b[0m\n\u001b[1;32m   1847\u001b[0m     )\n",
            "\u001b[0;32m/usr/local/lib/python3.7/dist-packages/joblib/parallel.py\u001b[0m in \u001b[0;36m__call__\u001b[0;34m(self, iterable)\u001b[0m\n\u001b[1;32m   1054\u001b[0m \u001b[0;34m\u001b[0m\u001b[0m\n\u001b[1;32m   1055\u001b[0m             \u001b[0;32mwith\u001b[0m \u001b[0mself\u001b[0m\u001b[0;34m.\u001b[0m\u001b[0m_backend\u001b[0m\u001b[0;34m.\u001b[0m\u001b[0mretrieval_context\u001b[0m\u001b[0;34m(\u001b[0m\u001b[0;34m)\u001b[0m\u001b[0;34m:\u001b[0m\u001b[0;34m\u001b[0m\u001b[0;34m\u001b[0m\u001b[0m\n\u001b[0;32m-> 1056\u001b[0;31m                 \u001b[0mself\u001b[0m\u001b[0;34m.\u001b[0m\u001b[0mretrieve\u001b[0m\u001b[0;34m(\u001b[0m\u001b[0;34m)\u001b[0m\u001b[0;34m\u001b[0m\u001b[0;34m\u001b[0m\u001b[0m\n\u001b[0m\u001b[1;32m   1057\u001b[0m             \u001b[0;31m# Make sure that we get a last message telling us we are done\u001b[0m\u001b[0;34m\u001b[0m\u001b[0;34m\u001b[0m\u001b[0;34m\u001b[0m\u001b[0m\n\u001b[1;32m   1058\u001b[0m             \u001b[0melapsed_time\u001b[0m \u001b[0;34m=\u001b[0m \u001b[0mtime\u001b[0m\u001b[0;34m.\u001b[0m\u001b[0mtime\u001b[0m\u001b[0;34m(\u001b[0m\u001b[0;34m)\u001b[0m \u001b[0;34m-\u001b[0m \u001b[0mself\u001b[0m\u001b[0;34m.\u001b[0m\u001b[0m_start_time\u001b[0m\u001b[0;34m\u001b[0m\u001b[0;34m\u001b[0m\u001b[0m\n",
            "\u001b[0;32m/usr/local/lib/python3.7/dist-packages/joblib/parallel.py\u001b[0m in \u001b[0;36mretrieve\u001b[0;34m(self)\u001b[0m\n\u001b[1;32m    933\u001b[0m             \u001b[0;32mtry\u001b[0m\u001b[0;34m:\u001b[0m\u001b[0;34m\u001b[0m\u001b[0;34m\u001b[0m\u001b[0m\n\u001b[1;32m    934\u001b[0m                 \u001b[0;32mif\u001b[0m \u001b[0mgetattr\u001b[0m\u001b[0;34m(\u001b[0m\u001b[0mself\u001b[0m\u001b[0;34m.\u001b[0m\u001b[0m_backend\u001b[0m\u001b[0;34m,\u001b[0m \u001b[0;34m'supports_timeout'\u001b[0m\u001b[0;34m,\u001b[0m \u001b[0;32mFalse\u001b[0m\u001b[0;34m)\u001b[0m\u001b[0;34m:\u001b[0m\u001b[0;34m\u001b[0m\u001b[0;34m\u001b[0m\u001b[0m\n\u001b[0;32m--> 935\u001b[0;31m                     \u001b[0mself\u001b[0m\u001b[0;34m.\u001b[0m\u001b[0m_output\u001b[0m\u001b[0;34m.\u001b[0m\u001b[0mextend\u001b[0m\u001b[0;34m(\u001b[0m\u001b[0mjob\u001b[0m\u001b[0;34m.\u001b[0m\u001b[0mget\u001b[0m\u001b[0;34m(\u001b[0m\u001b[0mtimeout\u001b[0m\u001b[0;34m=\u001b[0m\u001b[0mself\u001b[0m\u001b[0;34m.\u001b[0m\u001b[0mtimeout\u001b[0m\u001b[0;34m)\u001b[0m\u001b[0;34m)\u001b[0m\u001b[0;34m\u001b[0m\u001b[0;34m\u001b[0m\u001b[0m\n\u001b[0m\u001b[1;32m    936\u001b[0m                 \u001b[0;32melse\u001b[0m\u001b[0;34m:\u001b[0m\u001b[0;34m\u001b[0m\u001b[0;34m\u001b[0m\u001b[0m\n\u001b[1;32m    937\u001b[0m                     \u001b[0mself\u001b[0m\u001b[0;34m.\u001b[0m\u001b[0m_output\u001b[0m\u001b[0;34m.\u001b[0m\u001b[0mextend\u001b[0m\u001b[0;34m(\u001b[0m\u001b[0mjob\u001b[0m\u001b[0;34m.\u001b[0m\u001b[0mget\u001b[0m\u001b[0;34m(\u001b[0m\u001b[0;34m)\u001b[0m\u001b[0;34m)\u001b[0m\u001b[0;34m\u001b[0m\u001b[0;34m\u001b[0m\u001b[0m\n",
            "\u001b[0;32m/usr/local/lib/python3.7/dist-packages/joblib/_parallel_backends.py\u001b[0m in \u001b[0;36mwrap_future_result\u001b[0;34m(future, timeout)\u001b[0m\n\u001b[1;32m    540\u001b[0m         AsyncResults.get from multiprocessing.\"\"\"\n\u001b[1;32m    541\u001b[0m         \u001b[0;32mtry\u001b[0m\u001b[0;34m:\u001b[0m\u001b[0;34m\u001b[0m\u001b[0;34m\u001b[0m\u001b[0m\n\u001b[0;32m--> 542\u001b[0;31m             \u001b[0;32mreturn\u001b[0m \u001b[0mfuture\u001b[0m\u001b[0;34m.\u001b[0m\u001b[0mresult\u001b[0m\u001b[0;34m(\u001b[0m\u001b[0mtimeout\u001b[0m\u001b[0;34m=\u001b[0m\u001b[0mtimeout\u001b[0m\u001b[0;34m)\u001b[0m\u001b[0;34m\u001b[0m\u001b[0;34m\u001b[0m\u001b[0m\n\u001b[0m\u001b[1;32m    543\u001b[0m         \u001b[0;32mexcept\u001b[0m \u001b[0mCfTimeoutError\u001b[0m \u001b[0;32mas\u001b[0m \u001b[0me\u001b[0m\u001b[0;34m:\u001b[0m\u001b[0;34m\u001b[0m\u001b[0;34m\u001b[0m\u001b[0m\n\u001b[1;32m    544\u001b[0m             \u001b[0;32mraise\u001b[0m \u001b[0mTimeoutError\u001b[0m \u001b[0;32mfrom\u001b[0m \u001b[0me\u001b[0m\u001b[0;34m\u001b[0m\u001b[0;34m\u001b[0m\u001b[0m\n",
            "\u001b[0;32m/usr/lib/python3.7/concurrent/futures/_base.py\u001b[0m in \u001b[0;36mresult\u001b[0;34m(self, timeout)\u001b[0m\n\u001b[1;32m    428\u001b[0m                 \u001b[0;32mreturn\u001b[0m \u001b[0mself\u001b[0m\u001b[0;34m.\u001b[0m\u001b[0m__get_result\u001b[0m\u001b[0;34m(\u001b[0m\u001b[0;34m)\u001b[0m\u001b[0;34m\u001b[0m\u001b[0;34m\u001b[0m\u001b[0m\n\u001b[1;32m    429\u001b[0m \u001b[0;34m\u001b[0m\u001b[0m\n\u001b[0;32m--> 430\u001b[0;31m             \u001b[0mself\u001b[0m\u001b[0;34m.\u001b[0m\u001b[0m_condition\u001b[0m\u001b[0;34m.\u001b[0m\u001b[0mwait\u001b[0m\u001b[0;34m(\u001b[0m\u001b[0mtimeout\u001b[0m\u001b[0;34m)\u001b[0m\u001b[0;34m\u001b[0m\u001b[0;34m\u001b[0m\u001b[0m\n\u001b[0m\u001b[1;32m    431\u001b[0m \u001b[0;34m\u001b[0m\u001b[0m\n\u001b[1;32m    432\u001b[0m             \u001b[0;32mif\u001b[0m \u001b[0mself\u001b[0m\u001b[0;34m.\u001b[0m\u001b[0m_state\u001b[0m \u001b[0;32min\u001b[0m \u001b[0;34m[\u001b[0m\u001b[0mCANCELLED\u001b[0m\u001b[0;34m,\u001b[0m \u001b[0mCANCELLED_AND_NOTIFIED\u001b[0m\u001b[0;34m]\u001b[0m\u001b[0;34m:\u001b[0m\u001b[0;34m\u001b[0m\u001b[0;34m\u001b[0m\u001b[0m\n",
            "\u001b[0;32m/usr/lib/python3.7/threading.py\u001b[0m in \u001b[0;36mwait\u001b[0;34m(self, timeout)\u001b[0m\n\u001b[1;32m    294\u001b[0m         \u001b[0;32mtry\u001b[0m\u001b[0;34m:\u001b[0m    \u001b[0;31m# restore state no matter what (e.g., KeyboardInterrupt)\u001b[0m\u001b[0;34m\u001b[0m\u001b[0;34m\u001b[0m\u001b[0m\n\u001b[1;32m    295\u001b[0m             \u001b[0;32mif\u001b[0m \u001b[0mtimeout\u001b[0m \u001b[0;32mis\u001b[0m \u001b[0;32mNone\u001b[0m\u001b[0;34m:\u001b[0m\u001b[0;34m\u001b[0m\u001b[0;34m\u001b[0m\u001b[0m\n\u001b[0;32m--> 296\u001b[0;31m                 \u001b[0mwaiter\u001b[0m\u001b[0;34m.\u001b[0m\u001b[0macquire\u001b[0m\u001b[0;34m(\u001b[0m\u001b[0;34m)\u001b[0m\u001b[0;34m\u001b[0m\u001b[0;34m\u001b[0m\u001b[0m\n\u001b[0m\u001b[1;32m    297\u001b[0m                 \u001b[0mgotit\u001b[0m \u001b[0;34m=\u001b[0m \u001b[0;32mTrue\u001b[0m\u001b[0;34m\u001b[0m\u001b[0;34m\u001b[0m\u001b[0m\n\u001b[1;32m    298\u001b[0m             \u001b[0;32melse\u001b[0m\u001b[0;34m:\u001b[0m\u001b[0;34m\u001b[0m\u001b[0;34m\u001b[0m\u001b[0m\n",
            "\u001b[0;31mKeyboardInterrupt\u001b[0m: "
          ]
        }
      ],
      "source": [
        "%%time\n",
        "valid_plot(    \n",
        "    X, \n",
        "    y, \n",
        "    param_range=range(50, 201, 50), \n",
        "    param_name='n_estimators', \n",
        "    estimator=estimator,\n",
        "    xlabel=\"n_estimators\",\n",
        "    )\n",
        "plt.show()"
      ]
    },
    {
      "cell_type": "code",
      "execution_count": null,
      "metadata": {
        "id": "WsbtXiGsK8YP"
      },
      "outputs": [],
      "source": [
        "# estimator=AdaBoostClassifier(base_estimator=DecisionTreeClassifier(criterion='entropy', max_depth=1), learning_rate=0.1)"
      ]
    },
    {
      "cell_type": "code",
      "execution_count": null,
      "metadata": {
        "id": "HvGZOh07K8YP"
      },
      "outputs": [],
      "source": [
        "# %%time\n",
        "# valid_plot(    \n",
        "#     X, \n",
        "#     y, \n",
        "#     param_range=range(50, 301, 50), \n",
        "#     param_name='n_estimators', \n",
        "#     estimator=estimator,\n",
        "#     xlabel=\"n_estimators\",\n",
        "#     )\n",
        "# plt.show()"
      ]
    },
    {
      "cell_type": "markdown",
      "metadata": {
        "id": "8Mlnrj_2FdjD"
      },
      "source": [
        "## Final estimator design"
      ]
    },
    {
      "cell_type": "markdown",
      "metadata": {
        "id": "fIKtRE2SfV_8"
      },
      "source": [
        "## Learning Curves"
      ]
    },
    {
      "cell_type": "code",
      "execution_count": 24,
      "metadata": {
        "id": "8xbtq1_EN0C2"
      },
      "outputs": [],
      "source": [
        "estimator=AdaBoostClassifier(base_estimator=DecisionTreeClassifier(criterion='entropy', max_depth=6), n_estimators=200, learning_rate=1)"
      ]
    },
    {
      "cell_type": "code",
      "execution_count": 30,
      "metadata": {
        "id": "CAXeAIz_ZYdu",
        "colab": {
          "base_uri": "https://localhost:8080/",
          "height": 577
        },
        "outputId": "738c2eee-94c0-45ac-a102-64742f4ca6f8"
      },
      "outputs": [
        {
          "output_type": "display_data",
          "data": {
            "image/png": "[encoded data removed]",
            "text/plain": [
              "<Figure size 1872x576 with 3 Axes>"
            ]
          },
          "metadata": {}
        },
        {
          "output_type": "stream",
          "name": "stdout",
          "text": [
            "CPU times: user 11.7 s, sys: 1.42 s, total: 13.1 s\n",
            "Wall time: 36min 25s\n"
          ]
        }
      ],
      "source": [
        "%%time\n",
        "title = \"Learning Curves (Boosting)\"\n",
        "# Cross validation with 50 iterations to get smoother mean test and train\n",
        "# score curves, each time with 20% data randomly selected as a validation set.\n",
        "cv = RepeatedStratifiedKFold(n_splits=5, n_repeats=1, random_state=42)\n",
        "\n",
        "plot_learning_curve(\n",
        "    estimator, title, X, y, cv=cv, n_jobs=4\n",
        ")\n",
        "\n",
        "plt.show()"
      ]
    },
    {
      "cell_type": "markdown",
      "metadata": {
        "id": "xjvjYJNEFHdH"
      },
      "source": [
        "## Prediction and accuracy"
      ]
    },
    {
      "cell_type": "code",
      "execution_count": 21,
      "metadata": {
        "id": "KAp2Txtitkl0"
      },
      "outputs": [],
      "source": [
        "estimator=AdaBoostClassifier(base_estimator=DecisionTreeClassifier(criterion='entropy', max_depth=6), n_estimators=200, learning_rate=1)\n",
        "# estimator = DecisionTreeClassifier(criterion='entropy', max_depth=6)"
      ]
    },
    {
      "cell_type": "code",
      "execution_count": 25,
      "metadata": {
        "colab": {
          "base_uri": "https://localhost:8080/"
        },
        "id": "TTyZMmlHPFJQ",
        "outputId": "2f9e745a-a582-49bf-981d-ada94daded76"
      },
      "outputs": [
        {
          "output_type": "stream",
          "name": "stdout",
          "text": [
            "CPU times: user 4min 22s, sys: 287 ms, total: 4min 22s\n",
            "Wall time: 4min 21s\n"
          ]
        },
        {
          "output_type": "execute_result",
          "data": {
            "text/plain": [
              "AdaBoostClassifier(base_estimator=DecisionTreeClassifier(criterion='entropy',\n",
              "                                                         max_depth=6),\n",
              "                   learning_rate=1, n_estimators=200)"
            ]
          },
          "metadata": {},
          "execution_count": 25
        }
      ],
      "source": [
        "%%time\n",
        "estimator.fit(X, y)"
      ]
    },
    {
      "cell_type": "code",
      "execution_count": 26,
      "metadata": {
        "colab": {
          "base_uri": "https://localhost:8080/"
        },
        "id": "gI3aCSMxPLNw",
        "outputId": "8f276447-e96b-438f-e53a-b374d96c67c3"
      },
      "outputs": [
        {
          "output_type": "stream",
          "name": "stdout",
          "text": [
            "CPU times: user 980 ms, sys: 16 ms, total: 996 ms\n",
            "Wall time: 1 s\n"
          ]
        }
      ],
      "source": [
        "%%time\n",
        "y_pred = estimator.predict(X_test)"
      ]
    },
    {
      "cell_type": "code",
      "execution_count": 27,
      "metadata": {
        "colab": {
          "base_uri": "https://localhost:8080/"
        },
        "id": "mZ7fkLlFPVIS",
        "outputId": "3b5ab6f5-4e6a-4fa9-d40d-5764dc0f78bd"
      },
      "outputs": [
        {
          "output_type": "stream",
          "name": "stdout",
          "text": [
            "Training Score: 0.9873858568698237\n",
            "Testing Score: 0.9531775459170475\n"
          ]
        }
      ],
      "source": [
        "print(\"Training Score:\", estimator.score(X, y))\n",
        "print(\"Testing Score:\", estimator.score(X_test, y_test))\n"
      ]
    },
    {
      "cell_type": "markdown",
      "metadata": {
        "id": "0vIgX0-67AQG"
      },
      "source": [
        "## Confusion Matrix"
      ]
    },
    {
      "cell_type": "code",
      "execution_count": 28,
      "metadata": {
        "colab": {
          "base_uri": "https://localhost:8080/",
          "height": 526
        },
        "id": "uJ7mWINy7FFo",
        "outputId": "21c0c967-d5e3-48d3-906e-6c92fb4801b1"
      },
      "outputs": [
        {
          "output_type": "display_data",
          "data": {
            "image/png": "[encoded data removed]",
            "text/plain": [
              "<Figure size 864x612 with 2 Axes>"
            ]
          },
          "metadata": {}
        }
      ],
      "source": [
        "sns.heatmap(confusion_matrix(y_test, y_pred), annot=True, fmt='d')\n",
        "plt.show()"
      ]
    },
    {
      "cell_type": "markdown",
      "metadata": {
        "id": "A9kKHYD0Qmaa"
      },
      "source": [
        "## Bias, variance, and error score"
      ]
    },
    {
      "cell_type": "code",
      "execution_count": null,
      "metadata": {
        "colab": {
          "base_uri": "https://localhost:8080/"
        },
        "id": "lV2pCEjV0L8J",
        "outputId": "9505c6ff-1dec-4679-e96e-b97e2a87f102"
      },
      "outputs": [
        {
          "data": {
            "text/plain": [
              "(0.2147435573569611, 0.2092746158921671)"
            ]
          },
          "execution_count": 81,
          "metadata": {},
          "output_type": "execute_result"
        }
      ],
      "source": [
        "bias_var(y_test, y_pred)"
      ]
    },
    {
      "cell_type": "code",
      "execution_count": null,
      "metadata": {
        "colab": {
          "base_uri": "https://localhost:8080/"
        },
        "id": "rEPceujHRcfH",
        "outputId": "9c9c181a-2a31-4b8f-a459-bf58f43c7239"
      },
      "outputs": [
        {
          "name": "stdout",
          "output_type": "stream",
          "text": [
            "              precision    recall  f1-score   support\n",
            "\n",
            "           0       0.92      0.90      0.91      3617\n",
            "           1       0.78      0.82      0.80      1533\n",
            "\n",
            "    accuracy                           0.88      5150\n",
            "   macro avg       0.85      0.86      0.85      5150\n",
            "weighted avg       0.88      0.88      0.88      5150\n",
            "\n"
          ]
        }
      ],
      "source": [
        "print(classification_report(y_test, y_pred))"
      ]
    },
    {
      "cell_type": "code",
      "execution_count": null,
      "metadata": {
        "colab": {
          "base_uri": "https://localhost:8080/"
        },
        "id": "x2RHcfom5835",
        "outputId": "607f754a-dd72-4a05-b724-28d5922d50a4"
      },
      "outputs": [
        {
          "data": {
            "text/plain": [
              "0.12330097087378641"
            ]
          },
          "execution_count": 83,
          "metadata": {},
          "output_type": "execute_result"
        }
      ],
      "source": [
        "mean_squared_error(y_test, y_pred)"
      ]
    },
    {
      "cell_type": "code",
      "execution_count": null,
      "metadata": {
        "id": "rlkyrcx5-h-8"
      },
      "outputs": [],
      "source": [
        ""
      ]
    }
  ],
  "metadata": {
    "colab": {
      "collapsed_sections": [
        "EkKbuj3vekJb",
        "fVOO76Ige5Ef"
      ],
      "name": "boosting_posture.ipynb",
      "toc_visible": true,
      "provenance": [],
      "include_colab_link": true
    },
    "kernelspec": {
      "display_name": "Python 3",
      "name": "python3"
    },
    "language_info": {
      "name": "python"
    }
  },
  "nbformat": 4,
  "nbformat_minor": 0
}