{
 "cells": [
  {
   "cell_type": "code",
   "execution_count": 1,
   "metadata": {
    "colab": {
     "base_uri": "https://localhost:8080/",
     "height": 34
    },
    "colab_type": "code",
    "collapsed": false,
    "deletable": true,
    "editable": true,
    "id": "EnmKjB8L3cmb",
    "outputId": "0ba0058e-d112-490b-e4ad-fcbd94cbfbfb"
   },
   "outputs": [
    {
     "name": "stderr",
     "output_type": "stream",
     "text": [
      "Using TensorFlow backend.\n"
     ]
    }
   ],
   "source": [
    "import IPython\n",
    "import numpy as np\n",
    "import pandas as pd\n",
    "from matplotlib import __version__ as plt_version\n",
    "import matplotlib.pyplot as plt\n",
    "import seaborn as sns\n",
    "import sklearn\n",
    "import pydotplus\n",
    "%matplotlib inline\n",
    "\n",
    "sns.set_style('whitegrid')\n",
    "np.random.seed(42)\n",
    "# imports for Decision Trees\n",
    "from sklearn.externals.six import StringIO  \n",
    "from IPython.display import Image  \n",
    "from sklearn.tree import export_graphviz\n",
    "import graphviz\n",
    "\n",
    "from sklearn.tree import DecisionTreeClassifier\n",
    "from sklearn.metrics import roc_curve, roc_auc_score, accuracy_score\n",
    "from sklearn.model_selection import train_test_split, GridSearchCV, ShuffleSplit, learning_curve, validation_curve\n",
    "\n",
    "\n",
    "# import for KNN\n",
    "from sklearn.neighbors import KNeighborsClassifier\n",
    "\n",
    "# import for SVM\n",
    "from sklearn.svm import SVC\n",
    "from sklearn.ensemble import AdaBoostClassifier\n",
    "\n",
    "# imports for Neural Network\n",
    "import tensorflow as tf\n",
    "import keras\n",
    "\n",
    "from tqdm import tqdm"
   ]
  },
  {
   "cell_type": "code",
   "execution_count": 3,
   "metadata": {
    "colab": {
     "base_uri": "https://localhost:8080/",
     "height": 170
    },
    "colab_type": "code",
    "collapsed": false,
    "deletable": true,
    "editable": true,
    "id": "8E2Pbzba3cmf",
    "outputId": "c3cc58c7-c275-4121-827d-315702c22104"
   },
   "outputs": [
    {
     "name": "stdout",
     "output_type": "stream",
     "text": [
      "Anaconda Notebook version:  5.6.0\n",
      "numpy version:  1.15.4\n",
      "pandas version:  0.23.1\n",
      "matplotlib version:  2.0.0\n",
      "Sci-kit Learn version:  0.20.0\n",
      "Seaborn version:  0.9.0\n",
      "Grphviz version 0.10.1\n",
      "Tensorflow Version 1.12.0\n",
      "Keras Version 2.2.4\n"
     ]
    }
   ],
   "source": [
    "# Requirements to run this code \n",
    "print(\"Anaconda Notebook version: \",IPython.__version__ )\n",
    "print(\"numpy version: \", np.__version__)\n",
    "print(\"pandas version: \",pd.__version__)\n",
    "print(\"matplotlib version: \", plt_version)\n",
    "print(\"Sci-kit Learn version: \", sklearn.__version__)\n",
    "print(\"Seaborn version: \", sns.__version__)\n",
    "print(\"Grphviz version\", graphviz.__version__)\n",
    "print(\"Tensorflow Version\", tf.__version__)\n",
    "print(\"Keras Version\", keras.__version__)"
   ]
  },
  {
   "cell_type": "code",
   "execution_count": 4,
   "metadata": {
    "collapsed": false,
    "deletable": true,
    "editable": true
   },
   "outputs": [
    {
     "name": "stderr",
     "output_type": "stream",
     "text": [
      "100%|██████████| 617/617 [00:00<00:00, 617928.74it/s]\n"
     ]
    }
   ],
   "source": [
    "names = []\n",
    "for feat in tqdm(range(617)):\n",
    "    names.append('f_{}'.format(feat))\n",
    "names.append('letter')"
   ]
  },
  {
   "cell_type": "code",
   "execution_count": 5,
   "metadata": {
    "colab": {},
    "colab_type": "code",
    "collapsed": false,
    "deletable": true,
    "editable": true,
    "id": "STkxZ67f3cml"
   },
   "outputs": [],
   "source": [
    "# url = 'http://archive.ics.uci.edu/ml/machine-learning-databases/adult/adult.data'\n",
    "# url_test = 'http://archive.ics.uci.edu/ml/machine-learning-databases/adult/adult.test'\n",
    "# avila_tr = pd.read_csv('avila/avila-ts.txt', sep=',', header=None)\n",
    "train_data = pd.read_csv('data/isolet1+2+3+4.data', header=None, names=names)\n",
    "test_data = pd.read_csv('data/isolet5.data', header=None, names=names)\n"
   ]
  },
  {
   "cell_type": "code",
   "execution_count": 6,
   "metadata": {
    "colab": {
     "base_uri": "https://localhost:8080/",
     "height": 204
    },
    "colab_type": "code",
    "collapsed": false,
    "deletable": true,
    "editable": true,
    "id": "0tfJXNHd3cmn",
    "outputId": "64228d86-2a65-44c8-d0f7-f09484e53a5b"
   },
   "outputs": [
    {
     "data": {
      "text/html": [
       "<div>\n",
       "<style scoped>\n",
       "    .dataframe tbody tr th:only-of-type {\n",
       "        vertical-align: middle;\n",
       "    }\n",
       "\n",
       "    .dataframe tbody tr th {\n",
       "        vertical-align: top;\n",
       "    }\n",
       "\n",
       "    .dataframe thead th {\n",
       "        text-align: right;\n",
       "    }\n",
       "</style>\n",
       "<table border=\"1\" class=\"dataframe\">\n",
       "  <thead>\n",
       "    <tr style=\"text-align: right;\">\n",
       "      <th></th>\n",
       "      <th>f_0</th>\n",
       "      <th>f_1</th>\n",
       "      <th>f_2</th>\n",
       "      <th>f_3</th>\n",
       "      <th>f_4</th>\n",
       "      <th>f_5</th>\n",
       "      <th>f_6</th>\n",
       "      <th>f_7</th>\n",
       "      <th>f_8</th>\n",
       "      <th>f_9</th>\n",
       "      <th>...</th>\n",
       "      <th>f_608</th>\n",
       "      <th>f_609</th>\n",
       "      <th>f_610</th>\n",
       "      <th>f_611</th>\n",
       "      <th>f_612</th>\n",
       "      <th>f_613</th>\n",
       "      <th>f_614</th>\n",
       "      <th>f_615</th>\n",
       "      <th>f_616</th>\n",
       "      <th>letter</th>\n",
       "    </tr>\n",
       "  </thead>\n",
       "  <tbody>\n",
       "    <tr>\n",
       "      <th>0</th>\n",
       "      <td>-0.4394</td>\n",
       "      <td>-0.0930</td>\n",
       "      <td>0.1718</td>\n",
       "      <td>0.4620</td>\n",
       "      <td>0.6226</td>\n",
       "      <td>0.4704</td>\n",
       "      <td>0.3578</td>\n",
       "      <td>0.0478</td>\n",
       "      <td>-0.1184</td>\n",
       "      <td>-0.2310</td>\n",
       "      <td>...</td>\n",
       "      <td>0.4102</td>\n",
       "      <td>0.2052</td>\n",
       "      <td>0.3846</td>\n",
       "      <td>0.3590</td>\n",
       "      <td>0.5898</td>\n",
       "      <td>0.3334</td>\n",
       "      <td>0.6410</td>\n",
       "      <td>0.5898</td>\n",
       "      <td>-0.4872</td>\n",
       "      <td>1.0</td>\n",
       "    </tr>\n",
       "    <tr>\n",
       "      <th>1</th>\n",
       "      <td>-0.4348</td>\n",
       "      <td>-0.1198</td>\n",
       "      <td>0.2474</td>\n",
       "      <td>0.4036</td>\n",
       "      <td>0.5026</td>\n",
       "      <td>0.6328</td>\n",
       "      <td>0.4948</td>\n",
       "      <td>0.0338</td>\n",
       "      <td>-0.0520</td>\n",
       "      <td>-0.1302</td>\n",
       "      <td>...</td>\n",
       "      <td>0.0000</td>\n",
       "      <td>0.2954</td>\n",
       "      <td>0.2046</td>\n",
       "      <td>0.4772</td>\n",
       "      <td>0.0454</td>\n",
       "      <td>0.2046</td>\n",
       "      <td>0.4318</td>\n",
       "      <td>0.4546</td>\n",
       "      <td>-0.0910</td>\n",
       "      <td>1.0</td>\n",
       "    </tr>\n",
       "    <tr>\n",
       "      <th>2</th>\n",
       "      <td>-0.2330</td>\n",
       "      <td>0.2124</td>\n",
       "      <td>0.5014</td>\n",
       "      <td>0.5222</td>\n",
       "      <td>-0.3422</td>\n",
       "      <td>-0.5840</td>\n",
       "      <td>-0.7168</td>\n",
       "      <td>-0.6342</td>\n",
       "      <td>-0.8614</td>\n",
       "      <td>-0.8318</td>\n",
       "      <td>...</td>\n",
       "      <td>-0.1112</td>\n",
       "      <td>-0.0476</td>\n",
       "      <td>-0.1746</td>\n",
       "      <td>0.0318</td>\n",
       "      <td>-0.0476</td>\n",
       "      <td>0.1112</td>\n",
       "      <td>0.2540</td>\n",
       "      <td>0.1588</td>\n",
       "      <td>-0.4762</td>\n",
       "      <td>2.0</td>\n",
       "    </tr>\n",
       "    <tr>\n",
       "      <th>3</th>\n",
       "      <td>-0.3808</td>\n",
       "      <td>-0.0096</td>\n",
       "      <td>0.2602</td>\n",
       "      <td>0.2554</td>\n",
       "      <td>-0.4290</td>\n",
       "      <td>-0.6746</td>\n",
       "      <td>-0.6868</td>\n",
       "      <td>-0.6650</td>\n",
       "      <td>-0.8410</td>\n",
       "      <td>-0.9614</td>\n",
       "      <td>...</td>\n",
       "      <td>-0.0504</td>\n",
       "      <td>-0.0360</td>\n",
       "      <td>-0.1224</td>\n",
       "      <td>0.1366</td>\n",
       "      <td>0.2950</td>\n",
       "      <td>0.0792</td>\n",
       "      <td>-0.0072</td>\n",
       "      <td>0.0936</td>\n",
       "      <td>-0.1510</td>\n",
       "      <td>2.0</td>\n",
       "    </tr>\n",
       "    <tr>\n",
       "      <th>4</th>\n",
       "      <td>-0.3412</td>\n",
       "      <td>0.0946</td>\n",
       "      <td>0.6082</td>\n",
       "      <td>0.6216</td>\n",
       "      <td>-0.1622</td>\n",
       "      <td>-0.3784</td>\n",
       "      <td>-0.4324</td>\n",
       "      <td>-0.4358</td>\n",
       "      <td>-0.4966</td>\n",
       "      <td>-0.5406</td>\n",
       "      <td>...</td>\n",
       "      <td>0.1562</td>\n",
       "      <td>0.3124</td>\n",
       "      <td>0.2500</td>\n",
       "      <td>-0.0938</td>\n",
       "      <td>0.1562</td>\n",
       "      <td>0.3124</td>\n",
       "      <td>0.3124</td>\n",
       "      <td>0.2188</td>\n",
       "      <td>-0.2500</td>\n",
       "      <td>3.0</td>\n",
       "    </tr>\n",
       "  </tbody>\n",
       "</table>\n",
       "<p>5 rows × 618 columns</p>\n",
       "</div>"
      ],
      "text/plain": [
       "      f_0     f_1     f_2     f_3     f_4     f_5     f_6     f_7     f_8  \\\n",
       "0 -0.4394 -0.0930  0.1718  0.4620  0.6226  0.4704  0.3578  0.0478 -0.1184   \n",
       "1 -0.4348 -0.1198  0.2474  0.4036  0.5026  0.6328  0.4948  0.0338 -0.0520   \n",
       "2 -0.2330  0.2124  0.5014  0.5222 -0.3422 -0.5840 -0.7168 -0.6342 -0.8614   \n",
       "3 -0.3808 -0.0096  0.2602  0.2554 -0.4290 -0.6746 -0.6868 -0.6650 -0.8410   \n",
       "4 -0.3412  0.0946  0.6082  0.6216 -0.1622 -0.3784 -0.4324 -0.4358 -0.4966   \n",
       "\n",
       "      f_9   ...     f_608   f_609   f_610   f_611   f_612   f_613   f_614  \\\n",
       "0 -0.2310   ...    0.4102  0.2052  0.3846  0.3590  0.5898  0.3334  0.6410   \n",
       "1 -0.1302   ...    0.0000  0.2954  0.2046  0.4772  0.0454  0.2046  0.4318   \n",
       "2 -0.8318   ...   -0.1112 -0.0476 -0.1746  0.0318 -0.0476  0.1112  0.2540   \n",
       "3 -0.9614   ...   -0.0504 -0.0360 -0.1224  0.1366  0.2950  0.0792 -0.0072   \n",
       "4 -0.5406   ...    0.1562  0.3124  0.2500 -0.0938  0.1562  0.3124  0.3124   \n",
       "\n",
       "    f_615   f_616  letter  \n",
       "0  0.5898 -0.4872     1.0  \n",
       "1  0.4546 -0.0910     1.0  \n",
       "2  0.1588 -0.4762     2.0  \n",
       "3  0.0936 -0.1510     2.0  \n",
       "4  0.2188 -0.2500     3.0  \n",
       "\n",
       "[5 rows x 618 columns]"
      ]
     },
     "execution_count": 6,
     "metadata": {},
     "output_type": "execute_result"
    }
   ],
   "source": [
    "# load  the training data from \n",
    "train_data.head()\n"
   ]
  },
  {
   "cell_type": "code",
   "execution_count": 7,
   "metadata": {
    "colab": {
     "base_uri": "https://localhost:8080/",
     "height": 204
    },
    "colab_type": "code",
    "collapsed": false,
    "deletable": true,
    "editable": true,
    "id": "LieN6AKF3cms",
    "outputId": "1d1bf04c-c417-4dbd-c48e-212d409607b8"
   },
   "outputs": [
    {
     "data": {
      "text/html": [
       "<div>\n",
       "<style scoped>\n",
       "    .dataframe tbody tr th:only-of-type {\n",
       "        vertical-align: middle;\n",
       "    }\n",
       "\n",
       "    .dataframe tbody tr th {\n",
       "        vertical-align: top;\n",
       "    }\n",
       "\n",
       "    .dataframe thead th {\n",
       "        text-align: right;\n",
       "    }\n",
       "</style>\n",
       "<table border=\"1\" class=\"dataframe\">\n",
       "  <thead>\n",
       "    <tr style=\"text-align: right;\">\n",
       "      <th></th>\n",
       "      <th>f_0</th>\n",
       "      <th>f_1</th>\n",
       "      <th>f_2</th>\n",
       "      <th>f_3</th>\n",
       "      <th>f_4</th>\n",
       "      <th>f_5</th>\n",
       "      <th>f_6</th>\n",
       "      <th>f_7</th>\n",
       "      <th>f_8</th>\n",
       "      <th>f_9</th>\n",
       "      <th>...</th>\n",
       "      <th>f_608</th>\n",
       "      <th>f_609</th>\n",
       "      <th>f_610</th>\n",
       "      <th>f_611</th>\n",
       "      <th>f_612</th>\n",
       "      <th>f_613</th>\n",
       "      <th>f_614</th>\n",
       "      <th>f_615</th>\n",
       "      <th>f_616</th>\n",
       "      <th>letter</th>\n",
       "    </tr>\n",
       "  </thead>\n",
       "  <tbody>\n",
       "    <tr>\n",
       "      <th>0</th>\n",
       "      <td>-0.2080</td>\n",
       "      <td>0.3480</td>\n",
       "      <td>0.3280</td>\n",
       "      <td>0.5040</td>\n",
       "      <td>0.9320</td>\n",
       "      <td>1.0000</td>\n",
       "      <td>0.8360</td>\n",
       "      <td>0.6680</td>\n",
       "      <td>0.2720</td>\n",
       "      <td>0.2400</td>\n",
       "      <td>...</td>\n",
       "      <td>0.2500</td>\n",
       "      <td>-0.0624</td>\n",
       "      <td>0.2188</td>\n",
       "      <td>0.4532</td>\n",
       "      <td>0.1094</td>\n",
       "      <td>0.1718</td>\n",
       "      <td>0.1562</td>\n",
       "      <td>0.0468</td>\n",
       "      <td>-0.3750</td>\n",
       "      <td>1.0</td>\n",
       "    </tr>\n",
       "    <tr>\n",
       "      <th>1</th>\n",
       "      <td>-0.2864</td>\n",
       "      <td>0.1992</td>\n",
       "      <td>0.2822</td>\n",
       "      <td>0.4398</td>\n",
       "      <td>0.7012</td>\n",
       "      <td>0.7800</td>\n",
       "      <td>1.0000</td>\n",
       "      <td>0.9792</td>\n",
       "      <td>0.5850</td>\n",
       "      <td>0.4066</td>\n",
       "      <td>...</td>\n",
       "      <td>-0.0078</td>\n",
       "      <td>-0.1472</td>\n",
       "      <td>-0.1782</td>\n",
       "      <td>0.0078</td>\n",
       "      <td>0.1162</td>\n",
       "      <td>-0.0542</td>\n",
       "      <td>-0.0542</td>\n",
       "      <td>-0.0388</td>\n",
       "      <td>-0.7984</td>\n",
       "      <td>1.0</td>\n",
       "    </tr>\n",
       "    <tr>\n",
       "      <th>2</th>\n",
       "      <td>-0.2348</td>\n",
       "      <td>0.3826</td>\n",
       "      <td>0.6142</td>\n",
       "      <td>0.7492</td>\n",
       "      <td>0.0546</td>\n",
       "      <td>-0.4020</td>\n",
       "      <td>-0.3504</td>\n",
       "      <td>-0.2990</td>\n",
       "      <td>-0.6848</td>\n",
       "      <td>-0.6528</td>\n",
       "      <td>...</td>\n",
       "      <td>0.2834</td>\n",
       "      <td>0.1500</td>\n",
       "      <td>0.0834</td>\n",
       "      <td>-0.2000</td>\n",
       "      <td>-0.1834</td>\n",
       "      <td>0.0500</td>\n",
       "      <td>-0.0166</td>\n",
       "      <td>-0.1834</td>\n",
       "      <td>-0.8666</td>\n",
       "      <td>2.0</td>\n",
       "    </tr>\n",
       "    <tr>\n",
       "      <th>3</th>\n",
       "      <td>-0.1856</td>\n",
       "      <td>0.3592</td>\n",
       "      <td>0.7126</td>\n",
       "      <td>0.7366</td>\n",
       "      <td>0.3414</td>\n",
       "      <td>0.1018</td>\n",
       "      <td>-0.1556</td>\n",
       "      <td>-0.2514</td>\n",
       "      <td>-0.2514</td>\n",
       "      <td>-0.3892</td>\n",
       "      <td>...</td>\n",
       "      <td>0.2840</td>\n",
       "      <td>0.5556</td>\n",
       "      <td>0.4568</td>\n",
       "      <td>0.4568</td>\n",
       "      <td>0.4568</td>\n",
       "      <td>0.2098</td>\n",
       "      <td>0.0370</td>\n",
       "      <td>-0.0618</td>\n",
       "      <td>-0.3334</td>\n",
       "      <td>2.0</td>\n",
       "    </tr>\n",
       "    <tr>\n",
       "      <th>4</th>\n",
       "      <td>-0.1814</td>\n",
       "      <td>0.4404</td>\n",
       "      <td>0.8394</td>\n",
       "      <td>1.0000</td>\n",
       "      <td>0.7564</td>\n",
       "      <td>0.1866</td>\n",
       "      <td>0.0260</td>\n",
       "      <td>-0.0726</td>\n",
       "      <td>-0.2124</td>\n",
       "      <td>-0.3730</td>\n",
       "      <td>...</td>\n",
       "      <td>0.1688</td>\n",
       "      <td>-0.1688</td>\n",
       "      <td>0.2728</td>\n",
       "      <td>0.2988</td>\n",
       "      <td>0.2468</td>\n",
       "      <td>0.1948</td>\n",
       "      <td>-0.0130</td>\n",
       "      <td>-0.2988</td>\n",
       "      <td>-0.7662</td>\n",
       "      <td>3.0</td>\n",
       "    </tr>\n",
       "  </tbody>\n",
       "</table>\n",
       "<p>5 rows × 618 columns</p>\n",
       "</div>"
      ],
      "text/plain": [
       "      f_0     f_1     f_2     f_3     f_4     f_5     f_6     f_7     f_8  \\\n",
       "0 -0.2080  0.3480  0.3280  0.5040  0.9320  1.0000  0.8360  0.6680  0.2720   \n",
       "1 -0.2864  0.1992  0.2822  0.4398  0.7012  0.7800  1.0000  0.9792  0.5850   \n",
       "2 -0.2348  0.3826  0.6142  0.7492  0.0546 -0.4020 -0.3504 -0.2990 -0.6848   \n",
       "3 -0.1856  0.3592  0.7126  0.7366  0.3414  0.1018 -0.1556 -0.2514 -0.2514   \n",
       "4 -0.1814  0.4404  0.8394  1.0000  0.7564  0.1866  0.0260 -0.0726 -0.2124   \n",
       "\n",
       "      f_9   ...     f_608   f_609   f_610   f_611   f_612   f_613   f_614  \\\n",
       "0  0.2400   ...    0.2500 -0.0624  0.2188  0.4532  0.1094  0.1718  0.1562   \n",
       "1  0.4066   ...   -0.0078 -0.1472 -0.1782  0.0078  0.1162 -0.0542 -0.0542   \n",
       "2 -0.6528   ...    0.2834  0.1500  0.0834 -0.2000 -0.1834  0.0500 -0.0166   \n",
       "3 -0.3892   ...    0.2840  0.5556  0.4568  0.4568  0.4568  0.2098  0.0370   \n",
       "4 -0.3730   ...    0.1688 -0.1688  0.2728  0.2988  0.2468  0.1948 -0.0130   \n",
       "\n",
       "    f_615   f_616  letter  \n",
       "0  0.0468 -0.3750     1.0  \n",
       "1 -0.0388 -0.7984     1.0  \n",
       "2 -0.1834 -0.8666     2.0  \n",
       "3 -0.0618 -0.3334     2.0  \n",
       "4 -0.2988 -0.7662     3.0  \n",
       "\n",
       "[5 rows x 618 columns]"
      ]
     },
     "execution_count": 7,
     "metadata": {},
     "output_type": "execute_result"
    }
   ],
   "source": [
    "# load  the training data from \n",
    "test_data.head()"
   ]
  },
  {
   "cell_type": "code",
   "execution_count": 8,
   "metadata": {
    "colab": {
     "base_uri": "https://localhost:8080/",
     "height": 357
    },
    "colab_type": "code",
    "collapsed": false,
    "deletable": true,
    "editable": true,
    "id": "y9df1NKs3cmw",
    "outputId": "e14c9dbc-9f33-4b35-9346-aec829d77272",
    "scrolled": true
   },
   "outputs": [
    {
     "name": "stdout",
     "output_type": "stream",
     "text": [
      "<class 'pandas.core.frame.DataFrame'>\n",
      "RangeIndex: 6238 entries, 0 to 6237\n",
      "Columns: 618 entries, f_0 to letter\n",
      "dtypes: float64(618)\n",
      "memory usage: 29.4 MB\n"
     ]
    }
   ],
   "source": [
    "train_data.info()"
   ]
  },
  {
   "cell_type": "code",
   "execution_count": 9,
   "metadata": {
    "colab": {
     "base_uri": "https://localhost:8080/",
     "height": 357
    },
    "colab_type": "code",
    "collapsed": false,
    "deletable": true,
    "editable": true,
    "id": "9N1NNAJi3cm0",
    "outputId": "581a5b11-518b-4b72-890b-de39dc271694"
   },
   "outputs": [
    {
     "name": "stdout",
     "output_type": "stream",
     "text": [
      "<class 'pandas.core.frame.DataFrame'>\n",
      "RangeIndex: 1559 entries, 0 to 1558\n",
      "Columns: 618 entries, f_0 to letter\n",
      "dtypes: float64(618)\n",
      "memory usage: 7.4 MB\n"
     ]
    }
   ],
   "source": [
    "test_data.info()"
   ]
  },
  {
   "cell_type": "markdown",
   "metadata": {
    "colab_type": "text",
    "deletable": true,
    "editable": true,
    "id": "GZL_8fwx3cm4"
   },
   "source": [
    "## 2. Data Preprocessing ##"
   ]
  },
  {
   "cell_type": "code",
   "execution_count": 10,
   "metadata": {
    "colab": {},
    "colab_type": "code",
    "collapsed": true,
    "deletable": true,
    "editable": true,
    "id": "L1yTnjIU3cm4"
   },
   "outputs": [],
   "source": [
    "def preprocess_data(data):\n",
    "    ''' Change the categorical columns to numeric '''\n",
    "    data = data.dropna()\n",
    "    data = data.drop_duplicates()\n",
    "    for column in data.columns:\n",
    "        if data[column].dtype == object:\n",
    "            data[column] = data[column].astype('category').cat.codes\n",
    "    return data\n",
    "    "
   ]
  },
  {
   "cell_type": "code",
   "execution_count": 11,
   "metadata": {
    "colab": {},
    "colab_type": "code",
    "collapsed": true,
    "deletable": true,
    "editable": true,
    "id": "OKbZhlGu3cm7"
   },
   "outputs": [],
   "source": [
    "train_df = preprocess_data(train_data)\n",
    "test_df = preprocess_data(test_data)"
   ]
  },
  {
   "cell_type": "code",
   "execution_count": 12,
   "metadata": {
    "colab": {
     "base_uri": "https://localhost:8080/",
     "height": 221
    },
    "colab_type": "code",
    "collapsed": false,
    "deletable": true,
    "editable": true,
    "id": "pMZXPJu53cm-",
    "outputId": "2370086d-356d-4215-b041-b992d90ec151"
   },
   "outputs": [
    {
     "name": "stdout",
     "output_type": "stream",
     "text": [
      "(6238, 618)\n"
     ]
    },
    {
     "data": {
      "text/html": [
       "<div>\n",
       "<style scoped>\n",
       "    .dataframe tbody tr th:only-of-type {\n",
       "        vertical-align: middle;\n",
       "    }\n",
       "\n",
       "    .dataframe tbody tr th {\n",
       "        vertical-align: top;\n",
       "    }\n",
       "\n",
       "    .dataframe thead th {\n",
       "        text-align: right;\n",
       "    }\n",
       "</style>\n",
       "<table border=\"1\" class=\"dataframe\">\n",
       "  <thead>\n",
       "    <tr style=\"text-align: right;\">\n",
       "      <th></th>\n",
       "      <th>f_0</th>\n",
       "      <th>f_1</th>\n",
       "      <th>f_2</th>\n",
       "      <th>f_3</th>\n",
       "      <th>f_4</th>\n",
       "      <th>f_5</th>\n",
       "      <th>f_6</th>\n",
       "      <th>f_7</th>\n",
       "      <th>f_8</th>\n",
       "      <th>f_9</th>\n",
       "      <th>...</th>\n",
       "      <th>f_608</th>\n",
       "      <th>f_609</th>\n",
       "      <th>f_610</th>\n",
       "      <th>f_611</th>\n",
       "      <th>f_612</th>\n",
       "      <th>f_613</th>\n",
       "      <th>f_614</th>\n",
       "      <th>f_615</th>\n",
       "      <th>f_616</th>\n",
       "      <th>letter</th>\n",
       "    </tr>\n",
       "  </thead>\n",
       "  <tbody>\n",
       "    <tr>\n",
       "      <th>0</th>\n",
       "      <td>-0.4394</td>\n",
       "      <td>-0.0930</td>\n",
       "      <td>0.1718</td>\n",
       "      <td>0.4620</td>\n",
       "      <td>0.6226</td>\n",
       "      <td>0.4704</td>\n",
       "      <td>0.3578</td>\n",
       "      <td>0.0478</td>\n",
       "      <td>-0.1184</td>\n",
       "      <td>-0.2310</td>\n",
       "      <td>...</td>\n",
       "      <td>0.4102</td>\n",
       "      <td>0.2052</td>\n",
       "      <td>0.3846</td>\n",
       "      <td>0.3590</td>\n",
       "      <td>0.5898</td>\n",
       "      <td>0.3334</td>\n",
       "      <td>0.6410</td>\n",
       "      <td>0.5898</td>\n",
       "      <td>-0.4872</td>\n",
       "      <td>1.0</td>\n",
       "    </tr>\n",
       "    <tr>\n",
       "      <th>1</th>\n",
       "      <td>-0.4348</td>\n",
       "      <td>-0.1198</td>\n",
       "      <td>0.2474</td>\n",
       "      <td>0.4036</td>\n",
       "      <td>0.5026</td>\n",
       "      <td>0.6328</td>\n",
       "      <td>0.4948</td>\n",
       "      <td>0.0338</td>\n",
       "      <td>-0.0520</td>\n",
       "      <td>-0.1302</td>\n",
       "      <td>...</td>\n",
       "      <td>0.0000</td>\n",
       "      <td>0.2954</td>\n",
       "      <td>0.2046</td>\n",
       "      <td>0.4772</td>\n",
       "      <td>0.0454</td>\n",
       "      <td>0.2046</td>\n",
       "      <td>0.4318</td>\n",
       "      <td>0.4546</td>\n",
       "      <td>-0.0910</td>\n",
       "      <td>1.0</td>\n",
       "    </tr>\n",
       "    <tr>\n",
       "      <th>2</th>\n",
       "      <td>-0.2330</td>\n",
       "      <td>0.2124</td>\n",
       "      <td>0.5014</td>\n",
       "      <td>0.5222</td>\n",
       "      <td>-0.3422</td>\n",
       "      <td>-0.5840</td>\n",
       "      <td>-0.7168</td>\n",
       "      <td>-0.6342</td>\n",
       "      <td>-0.8614</td>\n",
       "      <td>-0.8318</td>\n",
       "      <td>...</td>\n",
       "      <td>-0.1112</td>\n",
       "      <td>-0.0476</td>\n",
       "      <td>-0.1746</td>\n",
       "      <td>0.0318</td>\n",
       "      <td>-0.0476</td>\n",
       "      <td>0.1112</td>\n",
       "      <td>0.2540</td>\n",
       "      <td>0.1588</td>\n",
       "      <td>-0.4762</td>\n",
       "      <td>2.0</td>\n",
       "    </tr>\n",
       "    <tr>\n",
       "      <th>3</th>\n",
       "      <td>-0.3808</td>\n",
       "      <td>-0.0096</td>\n",
       "      <td>0.2602</td>\n",
       "      <td>0.2554</td>\n",
       "      <td>-0.4290</td>\n",
       "      <td>-0.6746</td>\n",
       "      <td>-0.6868</td>\n",
       "      <td>-0.6650</td>\n",
       "      <td>-0.8410</td>\n",
       "      <td>-0.9614</td>\n",
       "      <td>...</td>\n",
       "      <td>-0.0504</td>\n",
       "      <td>-0.0360</td>\n",
       "      <td>-0.1224</td>\n",
       "      <td>0.1366</td>\n",
       "      <td>0.2950</td>\n",
       "      <td>0.0792</td>\n",
       "      <td>-0.0072</td>\n",
       "      <td>0.0936</td>\n",
       "      <td>-0.1510</td>\n",
       "      <td>2.0</td>\n",
       "    </tr>\n",
       "    <tr>\n",
       "      <th>4</th>\n",
       "      <td>-0.3412</td>\n",
       "      <td>0.0946</td>\n",
       "      <td>0.6082</td>\n",
       "      <td>0.6216</td>\n",
       "      <td>-0.1622</td>\n",
       "      <td>-0.3784</td>\n",
       "      <td>-0.4324</td>\n",
       "      <td>-0.4358</td>\n",
       "      <td>-0.4966</td>\n",
       "      <td>-0.5406</td>\n",
       "      <td>...</td>\n",
       "      <td>0.1562</td>\n",
       "      <td>0.3124</td>\n",
       "      <td>0.2500</td>\n",
       "      <td>-0.0938</td>\n",
       "      <td>0.1562</td>\n",
       "      <td>0.3124</td>\n",
       "      <td>0.3124</td>\n",
       "      <td>0.2188</td>\n",
       "      <td>-0.2500</td>\n",
       "      <td>3.0</td>\n",
       "    </tr>\n",
       "  </tbody>\n",
       "</table>\n",
       "<p>5 rows × 618 columns</p>\n",
       "</div>"
      ],
      "text/plain": [
       "      f_0     f_1     f_2     f_3     f_4     f_5     f_6     f_7     f_8  \\\n",
       "0 -0.4394 -0.0930  0.1718  0.4620  0.6226  0.4704  0.3578  0.0478 -0.1184   \n",
       "1 -0.4348 -0.1198  0.2474  0.4036  0.5026  0.6328  0.4948  0.0338 -0.0520   \n",
       "2 -0.2330  0.2124  0.5014  0.5222 -0.3422 -0.5840 -0.7168 -0.6342 -0.8614   \n",
       "3 -0.3808 -0.0096  0.2602  0.2554 -0.4290 -0.6746 -0.6868 -0.6650 -0.8410   \n",
       "4 -0.3412  0.0946  0.6082  0.6216 -0.1622 -0.3784 -0.4324 -0.4358 -0.4966   \n",
       "\n",
       "      f_9   ...     f_608   f_609   f_610   f_611   f_612   f_613   f_614  \\\n",
       "0 -0.2310   ...    0.4102  0.2052  0.3846  0.3590  0.5898  0.3334  0.6410   \n",
       "1 -0.1302   ...    0.0000  0.2954  0.2046  0.4772  0.0454  0.2046  0.4318   \n",
       "2 -0.8318   ...   -0.1112 -0.0476 -0.1746  0.0318 -0.0476  0.1112  0.2540   \n",
       "3 -0.9614   ...   -0.0504 -0.0360 -0.1224  0.1366  0.2950  0.0792 -0.0072   \n",
       "4 -0.5406   ...    0.1562  0.3124  0.2500 -0.0938  0.1562  0.3124  0.3124   \n",
       "\n",
       "    f_615   f_616  letter  \n",
       "0  0.5898 -0.4872     1.0  \n",
       "1  0.4546 -0.0910     1.0  \n",
       "2  0.1588 -0.4762     2.0  \n",
       "3  0.0936 -0.1510     2.0  \n",
       "4  0.2188 -0.2500     3.0  \n",
       "\n",
       "[5 rows x 618 columns]"
      ]
     },
     "execution_count": 12,
     "metadata": {},
     "output_type": "execute_result"
    }
   ],
   "source": [
    "print(train_df.shape)\n",
    "train_df.head()"
   ]
  },
  {
   "cell_type": "code",
   "execution_count": 13,
   "metadata": {
    "colab": {
     "base_uri": "https://localhost:8080/",
     "height": 221
    },
    "colab_type": "code",
    "collapsed": false,
    "deletable": true,
    "editable": true,
    "id": "p_my01ah3cnD",
    "outputId": "1ccea10e-4497-41a7-c33f-c724cfc162cd"
   },
   "outputs": [
    {
     "name": "stdout",
     "output_type": "stream",
     "text": [
      "(1559, 618)\n"
     ]
    },
    {
     "data": {
      "text/html": [
       "<div>\n",
       "<style scoped>\n",
       "    .dataframe tbody tr th:only-of-type {\n",
       "        vertical-align: middle;\n",
       "    }\n",
       "\n",
       "    .dataframe tbody tr th {\n",
       "        vertical-align: top;\n",
       "    }\n",
       "\n",
       "    .dataframe thead th {\n",
       "        text-align: right;\n",
       "    }\n",
       "</style>\n",
       "<table border=\"1\" class=\"dataframe\">\n",
       "  <thead>\n",
       "    <tr style=\"text-align: right;\">\n",
       "      <th></th>\n",
       "      <th>f_0</th>\n",
       "      <th>f_1</th>\n",
       "      <th>f_2</th>\n",
       "      <th>f_3</th>\n",
       "      <th>f_4</th>\n",
       "      <th>f_5</th>\n",
       "      <th>f_6</th>\n",
       "      <th>f_7</th>\n",
       "      <th>f_8</th>\n",
       "      <th>f_9</th>\n",
       "      <th>...</th>\n",
       "      <th>f_608</th>\n",
       "      <th>f_609</th>\n",
       "      <th>f_610</th>\n",
       "      <th>f_611</th>\n",
       "      <th>f_612</th>\n",
       "      <th>f_613</th>\n",
       "      <th>f_614</th>\n",
       "      <th>f_615</th>\n",
       "      <th>f_616</th>\n",
       "      <th>letter</th>\n",
       "    </tr>\n",
       "  </thead>\n",
       "  <tbody>\n",
       "    <tr>\n",
       "      <th>0</th>\n",
       "      <td>-0.2080</td>\n",
       "      <td>0.3480</td>\n",
       "      <td>0.3280</td>\n",
       "      <td>0.5040</td>\n",
       "      <td>0.9320</td>\n",
       "      <td>1.0000</td>\n",
       "      <td>0.8360</td>\n",
       "      <td>0.6680</td>\n",
       "      <td>0.2720</td>\n",
       "      <td>0.2400</td>\n",
       "      <td>...</td>\n",
       "      <td>0.2500</td>\n",
       "      <td>-0.0624</td>\n",
       "      <td>0.2188</td>\n",
       "      <td>0.4532</td>\n",
       "      <td>0.1094</td>\n",
       "      <td>0.1718</td>\n",
       "      <td>0.1562</td>\n",
       "      <td>0.0468</td>\n",
       "      <td>-0.3750</td>\n",
       "      <td>1.0</td>\n",
       "    </tr>\n",
       "    <tr>\n",
       "      <th>1</th>\n",
       "      <td>-0.2864</td>\n",
       "      <td>0.1992</td>\n",
       "      <td>0.2822</td>\n",
       "      <td>0.4398</td>\n",
       "      <td>0.7012</td>\n",
       "      <td>0.7800</td>\n",
       "      <td>1.0000</td>\n",
       "      <td>0.9792</td>\n",
       "      <td>0.5850</td>\n",
       "      <td>0.4066</td>\n",
       "      <td>...</td>\n",
       "      <td>-0.0078</td>\n",
       "      <td>-0.1472</td>\n",
       "      <td>-0.1782</td>\n",
       "      <td>0.0078</td>\n",
       "      <td>0.1162</td>\n",
       "      <td>-0.0542</td>\n",
       "      <td>-0.0542</td>\n",
       "      <td>-0.0388</td>\n",
       "      <td>-0.7984</td>\n",
       "      <td>1.0</td>\n",
       "    </tr>\n",
       "    <tr>\n",
       "      <th>2</th>\n",
       "      <td>-0.2348</td>\n",
       "      <td>0.3826</td>\n",
       "      <td>0.6142</td>\n",
       "      <td>0.7492</td>\n",
       "      <td>0.0546</td>\n",
       "      <td>-0.4020</td>\n",
       "      <td>-0.3504</td>\n",
       "      <td>-0.2990</td>\n",
       "      <td>-0.6848</td>\n",
       "      <td>-0.6528</td>\n",
       "      <td>...</td>\n",
       "      <td>0.2834</td>\n",
       "      <td>0.1500</td>\n",
       "      <td>0.0834</td>\n",
       "      <td>-0.2000</td>\n",
       "      <td>-0.1834</td>\n",
       "      <td>0.0500</td>\n",
       "      <td>-0.0166</td>\n",
       "      <td>-0.1834</td>\n",
       "      <td>-0.8666</td>\n",
       "      <td>2.0</td>\n",
       "    </tr>\n",
       "    <tr>\n",
       "      <th>3</th>\n",
       "      <td>-0.1856</td>\n",
       "      <td>0.3592</td>\n",
       "      <td>0.7126</td>\n",
       "      <td>0.7366</td>\n",
       "      <td>0.3414</td>\n",
       "      <td>0.1018</td>\n",
       "      <td>-0.1556</td>\n",
       "      <td>-0.2514</td>\n",
       "      <td>-0.2514</td>\n",
       "      <td>-0.3892</td>\n",
       "      <td>...</td>\n",
       "      <td>0.2840</td>\n",
       "      <td>0.5556</td>\n",
       "      <td>0.4568</td>\n",
       "      <td>0.4568</td>\n",
       "      <td>0.4568</td>\n",
       "      <td>0.2098</td>\n",
       "      <td>0.0370</td>\n",
       "      <td>-0.0618</td>\n",
       "      <td>-0.3334</td>\n",
       "      <td>2.0</td>\n",
       "    </tr>\n",
       "    <tr>\n",
       "      <th>4</th>\n",
       "      <td>-0.1814</td>\n",
       "      <td>0.4404</td>\n",
       "      <td>0.8394</td>\n",
       "      <td>1.0000</td>\n",
       "      <td>0.7564</td>\n",
       "      <td>0.1866</td>\n",
       "      <td>0.0260</td>\n",
       "      <td>-0.0726</td>\n",
       "      <td>-0.2124</td>\n",
       "      <td>-0.3730</td>\n",
       "      <td>...</td>\n",
       "      <td>0.1688</td>\n",
       "      <td>-0.1688</td>\n",
       "      <td>0.2728</td>\n",
       "      <td>0.2988</td>\n",
       "      <td>0.2468</td>\n",
       "      <td>0.1948</td>\n",
       "      <td>-0.0130</td>\n",
       "      <td>-0.2988</td>\n",
       "      <td>-0.7662</td>\n",
       "      <td>3.0</td>\n",
       "    </tr>\n",
       "  </tbody>\n",
       "</table>\n",
       "<p>5 rows × 618 columns</p>\n",
       "</div>"
      ],
      "text/plain": [
       "      f_0     f_1     f_2     f_3     f_4     f_5     f_6     f_7     f_8  \\\n",
       "0 -0.2080  0.3480  0.3280  0.5040  0.9320  1.0000  0.8360  0.6680  0.2720   \n",
       "1 -0.2864  0.1992  0.2822  0.4398  0.7012  0.7800  1.0000  0.9792  0.5850   \n",
       "2 -0.2348  0.3826  0.6142  0.7492  0.0546 -0.4020 -0.3504 -0.2990 -0.6848   \n",
       "3 -0.1856  0.3592  0.7126  0.7366  0.3414  0.1018 -0.1556 -0.2514 -0.2514   \n",
       "4 -0.1814  0.4404  0.8394  1.0000  0.7564  0.1866  0.0260 -0.0726 -0.2124   \n",
       "\n",
       "      f_9   ...     f_608   f_609   f_610   f_611   f_612   f_613   f_614  \\\n",
       "0  0.2400   ...    0.2500 -0.0624  0.2188  0.4532  0.1094  0.1718  0.1562   \n",
       "1  0.4066   ...   -0.0078 -0.1472 -0.1782  0.0078  0.1162 -0.0542 -0.0542   \n",
       "2 -0.6528   ...    0.2834  0.1500  0.0834 -0.2000 -0.1834  0.0500 -0.0166   \n",
       "3 -0.3892   ...    0.2840  0.5556  0.4568  0.4568  0.4568  0.2098  0.0370   \n",
       "4 -0.3730   ...    0.1688 -0.1688  0.2728  0.2988  0.2468  0.1948 -0.0130   \n",
       "\n",
       "    f_615   f_616  letter  \n",
       "0  0.0468 -0.3750     1.0  \n",
       "1 -0.0388 -0.7984     1.0  \n",
       "2 -0.1834 -0.8666     2.0  \n",
       "3 -0.0618 -0.3334     2.0  \n",
       "4 -0.2988 -0.7662     3.0  \n",
       "\n",
       "[5 rows x 618 columns]"
      ]
     },
     "execution_count": 13,
     "metadata": {},
     "output_type": "execute_result"
    }
   ],
   "source": [
    "print(test_df.shape)\n",
    "test_df.head()"
   ]
  },
  {
   "cell_type": "markdown",
   "metadata": {
    "colab_type": "text",
    "deletable": true,
    "editable": true,
    "id": "gnrSS1xr3cnH"
   },
   "source": [
    "## 3. Exploratory Data Analysis"
   ]
  },
  {
   "cell_type": "code",
   "execution_count": 14,
   "metadata": {
    "colab": {
     "base_uri": "https://localhost:8080/",
     "height": 622
    },
    "colab_type": "code",
    "collapsed": false,
    "deletable": true,
    "editable": true,
    "id": "rvGAHg3S3cnJ",
    "outputId": "e0f7ef5c-5ebe-434d-9503-bf19e4452921"
   },
   "outputs": [
    {
     "data": {
      "image/png": "[encoded data removed]",
      "text/plain": [
       "<matplotlib.figure.Figure at 0x1e9dfe2b828>"
      ]
     },
     "metadata": {},
     "output_type": "display_data"
    }
   ],
   "source": [
    "plt.figure(figsize=(18, 8))\n",
    "plt.subplot(121)\n",
    "sns.countplot('letter', data=train_df)\n",
    "plt.title('Target Varibale Distribution of Training Data')\n",
    "\n",
    "plt.subplot(122)\n",
    "sns.countplot('letter', data=test_df)\n",
    "plt.title('Target Varibale Distribution of Test Data')\n",
    "\n",
    "plt.show()\n"
   ]
  },
  {
   "cell_type": "code",
   "execution_count": 15,
   "metadata": {
    "colab": {
     "base_uri": "https://localhost:8080/",
     "height": 566
    },
    "colab_type": "code",
    "collapsed": false,
    "deletable": true,
    "editable": true,
    "id": "6SK-J5ht3cnN",
    "outputId": "0318a22a-43e1-4c1c-a28f-795c829fa64b"
   },
   "outputs": [
    {
     "data": {
      "image/png": "[encoded data removed]",
      "text/plain": [
       "<matplotlib.figure.Figure at 0x1e9dfe2b048>"
      ]
     },
     "metadata": {},
     "output_type": "display_data"
    }
   ],
   "source": [
    "plt.figure(figsize=(10, 8))\n",
    "plt.plot(train_df.letter)\n",
    "plt.show()"
   ]
  },
  {
   "cell_type": "code",
   "execution_count": 16,
   "metadata": {
    "colab": {},
    "colab_type": "code",
    "collapsed": true,
    "deletable": true,
    "editable": true,
    "id": "OTeAjpgC3cnV"
   },
   "outputs": [],
   "source": [
    "# generating features and target variable for training and testing\n",
    "X = train_df.drop(columns='letter', axis=0)\n",
    "y = train_df.letter\n",
    "\n",
    "X_test = test_df.drop(columns='letter',axis=0)\n",
    "y_test = test_df.letter"
   ]
  },
  {
   "cell_type": "markdown",
   "metadata": {
    "colab_type": "text",
    "deletable": true,
    "editable": true,
    "id": "t093BMG5a4IR"
   },
   "source": [
    "# 4. Experiments and Results "
   ]
  },
  {
   "cell_type": "markdown",
   "metadata": {
    "colab_type": "text",
    "deletable": true,
    "editable": true,
    "id": "Q7Mzmr10BDvY"
   },
   "source": [
    "## Decision Trees\n",
    "### Vanilla version of Decision trees Classifier with default parameters"
   ]
  },
  {
   "cell_type": "code",
   "execution_count": 18,
   "metadata": {
    "colab": {
     "base_uri": "https://localhost:8080/",
     "height": 85
    },
    "colab_type": "code",
    "collapsed": false,
    "deletable": true,
    "editable": true,
    "id": "seHrTdVZ3cna",
    "outputId": "8af2b010-3b29-4ad8-d5c6-fb862db41724"
   },
   "outputs": [
    {
     "name": "stdout",
     "output_type": "stream",
     "text": [
      "Wall time: 4.54 s\n",
      "Accuracy Score for Training Data :  1.0\n",
      "Accuracy Score for Test Data:  0.8011545862732521\n"
     ]
    }
   ],
   "source": [
    "clf = DecisionTreeClassifier()\n",
    "%time clf.fit(X, y)\n",
    "print(\"Accuracy Score for Training Data : \",clf.score(X, y))\n",
    "print(\"Accuracy Score for Test Data: \",clf.score(X_test, y_test))"
   ]
  },
  {
   "cell_type": "markdown",
   "metadata": {
    "colab_type": "text",
    "deletable": true,
    "editable": true,
    "id": "4qlIjqrwJawI"
   },
   "source": [
    "### Hyperparameter Tuning"
   ]
  },
  {
   "cell_type": "code",
   "execution_count": 19,
   "metadata": {
    "colab": {},
    "colab_type": "code",
    "collapsed": true,
    "deletable": true,
    "editable": true,
    "id": "SXNVHPVO3cng"
   },
   "outputs": [],
   "source": [
    "# this is a modified version of plot_learning_curve from scikit learn website. \n",
    "# For the main structure all credit goes to the scikit learn authors \n",
    "\n",
    "def plot_learning_curve(estimator, X, y, ylim=None, cv=None, title=\"Learning Curves\",\n",
    "                        n_jobs=-1, train_sizes=np.linspace(.1, 1.0, 5), scoring=None):\n",
    "    \"\"\"\n",
    "    Generate a simple plot of the test and training learning curve.\n",
    "    \n",
    "    \"\"\"\n",
    "    if ylim is not None:\n",
    "        plt.ylim(*ylim)\n",
    "    plt.xlabel(\"Training examples\")\n",
    "    plt.ylabel(\"Score\")\n",
    "    train_sizes, train_scores, test_scores = learning_curve(\n",
    "        estimator, X, y, cv=cv, n_jobs=n_jobs, train_sizes=train_sizes, scoring=scoring)\n",
    "    train_scores_mean = np.mean(train_scores, axis=1)\n",
    "    train_scores_std = np.std(train_scores, axis=1)\n",
    "    test_scores_mean = np.mean(test_scores, axis=1)\n",
    "    test_scores_std = np.std(test_scores, axis=1)\n",
    "\n",
    "    plt.fill_between(train_sizes, train_scores_mean - train_scores_std,\n",
    "                     train_scores_mean + train_scores_std, alpha=0.1,\n",
    "                     color=\"r\")\n",
    "    plt.fill_between(train_sizes, test_scores_mean - test_scores_std,\n",
    "                     test_scores_mean + test_scores_std, alpha=0.1, color=\"g\")\n",
    "    plt.plot(train_sizes, train_scores_mean, 'o-', color=\"r\",\n",
    "             label=\"Training score\")\n",
    "    plt.plot(train_sizes, test_scores_mean, 'o-', color=\"g\",\n",
    "             label=\"Cross-validation score\")\n",
    "\n",
    "    plt.legend(loc=\"best\")\n",
    "    return plt\n"
   ]
  },
  {
   "cell_type": "code",
   "execution_count": 20,
   "metadata": {
    "colab": {
     "base_uri": "https://localhost:8080/",
     "height": 431
    },
    "colab_type": "code",
    "collapsed": false,
    "deletable": true,
    "editable": true,
    "id": "Vi9Z45n43cnl",
    "outputId": "66653b6d-b200-4709-bfb3-8a1d05d5e2ae"
   },
   "outputs": [
    {
     "name": "stderr",
     "output_type": "stream",
     "text": [
      "100%|██████████| 3/3 [00:45<00:00, 15.15s/it]\n"
     ]
    },
    {
     "data": {
      "image/png": "[encoded data removed]",
      "text/plain": [
       "<matplotlib.figure.Figure at 0x1e9e1584518>"
      ]
     },
     "metadata": {},
     "output_type": "display_data"
    }
   ],
   "source": [
    "# Cross validation with 50 iterations to get smoother mean test and train\n",
    "# score curves, each time with 33% data randomly selected as a validation set.\n",
    "cv = ShuffleSplit(n_splits=10, test_size=0.3, random_state=42)\n",
    "\n",
    "# Generate the training set sizes\n",
    "train_sizes = np.rint(np.linspace(25, X.shape[0]*0.67 - 1, 9)).astype(int)\n",
    "\n",
    "# specify parameters \n",
    "depths = [2, 9, 14]\n",
    "\n",
    "# specify the classifiers with different parameters and plot the learning curves\n",
    "plt.figure(figsize=(18, 6))\n",
    "sub_cols = 130\n",
    "\n",
    "for depth in tqdm(depths):\n",
    "    sub_cols = sub_cols+1\n",
    "    plt.subplot(sub_cols)\n",
    "    estimator = DecisionTreeClassifier(max_depth=depth, min_samples_split=0.001)\n",
    "    plot_learning_curve(estimator, X, y, cv=cv,train_sizes=train_sizes)\n",
    "    plt.title('max_depth = {}'.format(estimator.max_depth))\n",
    "\n",
    "plt.suptitle(\"Learning Curves Decision Trees\", size=16)\n",
    "plt.show()"
   ]
  },
  {
   "cell_type": "markdown",
   "metadata": {
    "colab_type": "text",
    "deletable": true,
    "editable": true,
    "id": "qxHoq87Y3cno"
   },
   "source": [
    "### Grid Search Cross Validation to Confirm the Best max_depth"
   ]
  },
  {
   "cell_type": "code",
   "execution_count": 26,
   "metadata": {
    "colab": {},
    "colab_type": "code",
    "collapsed": true,
    "deletable": true,
    "editable": true,
    "id": "PVkogEKW3cnq"
   },
   "outputs": [],
   "source": [
    "searcher = GridSearchCV(estimator=DecisionTreeClassifier(),\n",
    "                        param_grid={'min_samples_split':[0.001, 0.01, 0.03, 0.05],\n",
    "                                    'max_depth':np.arange(3,10)},\n",
    "                        cv=5, n_jobs=-1, scoring = 'f1_micro')"
   ]
  },
  {
   "cell_type": "code",
   "execution_count": 27,
   "metadata": {
    "colab": {
     "base_uri": "https://localhost:8080/",
     "height": 102
    },
    "colab_type": "code",
    "collapsed": false,
    "deletable": true,
    "editable": true,
    "id": "pHcGruyz3cns",
    "outputId": "4105d840-2628-4d4f-8591-aeebd9293a53"
   },
   "outputs": [
    {
     "name": "stdout",
     "output_type": "stream",
     "text": [
      "Wall time: 48.8 s\n",
      "Best parameter {'max_depth': 9, 'min_samples_split': 0.001}\n",
      "Training score after parameter tuning: 0.8836165437640271\n",
      "Test score after parameter tuning: 0.7966645285439384\n"
     ]
    }
   ],
   "source": [
    "%time searcher.fit(X, y)\n",
    "print('Best parameter', searcher.best_params_)\n",
    "print(\"Training score after parameter tuning:\", searcher.score(X, y))\n",
    "print('Test score after parameter tuning:',searcher.score(X_test, y_test))"
   ]
  },
  {
   "cell_type": "code",
   "execution_count": 28,
   "metadata": {
    "colab": {},
    "colab_type": "code",
    "collapsed": true,
    "deletable": true,
    "editable": true,
    "id": "G_G6vyLH3cn2"
   },
   "outputs": [],
   "source": [
    "# # warning: this code may take significant amount time to run\n",
    "# dot_data = StringIO()\n",
    "# export_graphviz(searcher.best_estimator_, out_file=dot_data, feature_names=X.columns.tolist())\n",
    "# graph = pydotplus.graph_from_dot_data(dot_data.getvalue())\n",
    "# Image(graph.create_png())"
   ]
  },
  {
   "cell_type": "markdown",
   "metadata": {
    "colab_type": "text",
    "deletable": true,
    "editable": true,
    "id": "79DtQ6roYrmY"
   },
   "source": [
    "## Boosting Trees with Adaboost"
   ]
  },
  {
   "cell_type": "code",
   "execution_count": 29,
   "metadata": {
    "colab": {
     "base_uri": "https://localhost:8080/",
     "height": 85
    },
    "colab_type": "code",
    "collapsed": false,
    "deletable": true,
    "editable": true,
    "id": "a__gO2fOXQDX",
    "outputId": "01da014f-65bf-4c8f-c9a1-f851a349c2a6"
   },
   "outputs": [
    {
     "name": "stdout",
     "output_type": "stream",
     "text": [
      "Wall time: 2min 38s\n",
      "0.9172811798653414\n",
      "0.8011545862732521\n"
     ]
    }
   ],
   "source": [
    "clf_boost = AdaBoostClassifier(searcher.best_estimator_)\n",
    "%time clf_boost.fit(X, y)\n",
    "print(clf_boost.score(X, y))\n",
    "print(clf_boost.score(X_test, y_test))"
   ]
  },
  {
   "cell_type": "code",
   "execution_count": 30,
   "metadata": {
    "collapsed": false,
    "deletable": true,
    "editable": true
   },
   "outputs": [
    {
     "data": {
      "text/plain": [
       "AdaBoostClassifier(algorithm='SAMME.R',\n",
       "          base_estimator=DecisionTreeClassifier(class_weight=None, criterion='gini', max_depth=9,\n",
       "            max_features=None, max_leaf_nodes=None,\n",
       "            min_impurity_decrease=0.0, min_impurity_split=None,\n",
       "            min_samples_leaf=1, min_samples_split=0.001,\n",
       "            min_weight_fraction_leaf=0.0, presort=False, random_state=None,\n",
       "            splitter='best'),\n",
       "          learning_rate=1.0, n_estimators=50, random_state=None)"
      ]
     },
     "execution_count": 30,
     "metadata": {},
     "output_type": "execute_result"
    }
   ],
   "source": [
    "clf_boost"
   ]
  },
  {
   "cell_type": "markdown",
   "metadata": {
    "colab_type": "text",
    "deletable": true,
    "editable": true,
    "id": "xEnjXzUsov2V"
   },
   "source": [
    "### Tuning Adaboost"
   ]
  },
  {
   "cell_type": "code",
   "execution_count": 31,
   "metadata": {
    "collapsed": false,
    "deletable": true,
    "editable": true
   },
   "outputs": [
    {
     "name": "stdout",
     "output_type": "stream",
     "text": [
      "Wall time: 18min 29s\n"
     ]
    },
    {
     "data": {
      "image/png": "[encoded data removed]",
      "text/plain": [
       "<matplotlib.figure.Figure at 0x1e9dfc07be0>"
      ]
     },
     "metadata": {},
     "output_type": "display_data"
    }
   ],
   "source": [
    "bdt_real = AdaBoostClassifier(searcher.best_estimator_,\n",
    "                              n_estimators=300,\n",
    "                              learning_rate=0.1,\n",
    "                              random_state=42)\n",
    "\n",
    "\n",
    "%time bdt_real.fit(X, y)\n",
    "\n",
    "real_test_accuracy = []\n",
    "train_accuracy = []\n",
    "\n",
    "for real_test_predict, train_predict in zip(\n",
    "        bdt_real.staged_predict(X_test), bdt_real.staged_predict(X)):\n",
    "    real_test_accuracy.append(accuracy_score(real_test_predict, y_test))\n",
    "    train_accuracy.append(accuracy_score(train_predict, y))\n",
    "\n",
    "n_trees_real = len(bdt_real)\n",
    "\n",
    "\n",
    "plt.figure(figsize=(8, 7))\n",
    "plt.plot(range(1, n_trees_real + 1),\n",
    "         real_test_accuracy, c='green',\n",
    "         label='Test Accuracy')\n",
    "plt.plot(range(1, n_trees_real + 1),\n",
    "         train_accuracy, c='red',\n",
    "         label='Train Accuracy')\n",
    "plt.legend()\n",
    "plt.ylabel('Accuracy Score')\n",
    "plt.xlabel('Number of Trees')\n",
    "plt.xlim((-20, len(bdt_real) + 20))\n",
    "plt.title('Adaboost Validation Curve')\n",
    "plt.show()"
   ]
  },
  {
   "cell_type": "code",
   "execution_count": 32,
   "metadata": {
    "collapsed": false,
    "deletable": true,
    "editable": true
   },
   "outputs": [
    {
     "name": "stdout",
     "output_type": "stream",
     "text": [
      "Wall time: 19min 17s\n"
     ]
    },
    {
     "data": {
      "image/png": "[encoded data removed]",
      "text/plain": [
       "<matplotlib.figure.Figure at 0x1e9df964198>"
      ]
     },
     "metadata": {},
     "output_type": "display_data"
    }
   ],
   "source": [
    "bdt_real = AdaBoostClassifier(searcher.best_estimator_,\n",
    "                              n_estimators=400,\n",
    "                              learning_rate=1,\n",
    "                              random_state=42)\n",
    "\n",
    "\n",
    "%time bdt_real.fit(X, y)\n",
    "\n",
    "real_test_accuracy = []\n",
    "train_accuracy = []\n",
    "\n",
    "for real_test_predict, train_predict in zip(\n",
    "        bdt_real.staged_predict(X_test), bdt_real.staged_predict(X)):\n",
    "    real_test_accuracy.append(accuracy_score(real_test_predict, y_test))\n",
    "    train_accuracy.append(accuracy_score(train_predict, y))\n",
    "\n",
    "n_trees_real = len(bdt_real)\n",
    "\n",
    "\n",
    "plt.figure(figsize=(8, 7))\n",
    "plt.plot(range(1, n_trees_real + 1),\n",
    "         real_test_accuracy, c='green',\n",
    "         label='Test Accuracy')\n",
    "plt.plot(range(1, n_trees_real + 1),\n",
    "         train_accuracy, c='red',\n",
    "         label='Train Accuracy')\n",
    "plt.legend()\n",
    "plt.ylabel('Accuracy Score')\n",
    "plt.xlabel('Number of Trees')\n",
    "plt.xlim((-20, len(bdt_real) + 20))\n",
    "plt.title('Adaboost Validation Curve')\n",
    "plt.show()"
   ]
  },
  {
   "cell_type": "code",
   "execution_count": 80,
   "metadata": {
    "colab": {},
    "colab_type": "code",
    "collapsed": false,
    "deletable": true,
    "editable": true,
    "id": "FjVnrkvKXrNa"
   },
   "outputs": [
    {
     "name": "stdout",
     "output_type": "stream",
     "text": [
      "Wall time: 11min 36s\n",
      "0.999519076627124\n",
      "0.9416292495189224\n"
     ]
    }
   ],
   "source": [
    "clf_boost = AdaBoostClassifier(searcher.best_estimator_, n_estimators=225, learning_rate=0.1)\n",
    "%time clf_boost.fit(X, y)\n",
    "print(clf_boost.score(X, y))\n",
    "print(clf_boost.score(X_test, y_test))"
   ]
  },
  {
   "cell_type": "markdown",
   "metadata": {
    "colab_type": "text",
    "deletable": true,
    "editable": true,
    "id": "Y9kEX1wJp45i"
   },
   "source": [
    "## KNN"
   ]
  },
  {
   "cell_type": "code",
   "execution_count": 33,
   "metadata": {
    "colab": {
     "base_uri": "https://localhost:8080/",
     "height": 85
    },
    "colab_type": "code",
    "collapsed": false,
    "deletable": true,
    "editable": true,
    "id": "-nHc4CnPFXNX",
    "outputId": "a95ba014-d641-45a3-ac51-9c08ef2a5b44"
   },
   "outputs": [],
   "source": [
    "from sklearn.preprocessing import MinMaxScaler\n",
    "scaler = MinMaxScaler()\n",
    "# X_scaled = scaler.fit_transform(X)\n",
    "# X_test_scaled = scaler.fit_transform(X_test)\n",
    "X_scaled = X\n",
    "X_test_scaled = X_test"
   ]
  },
  {
   "cell_type": "code",
   "execution_count": 32,
   "metadata": {
    "colab": {
     "base_uri": "https://localhost:8080/",
     "height": 85
    },
    "colab_type": "code",
    "collapsed": false,
    "deletable": true,
    "editable": true,
    "id": "SIvuhqE8p3h8",
    "outputId": "4c16e47d-4062-417d-c343-9497d141c24c"
   },
   "outputs": [
    {
     "name": "stdout",
     "output_type": "stream",
     "text": [
      "Wall time: 190 ms\n",
      "Accuracy score on Train data: 0.9329913433792882\n",
      "Accuracy score on Test data: 0.9127645926876202\n"
     ]
    }
   ],
   "source": [
    "# simple Knn with default parameters\n",
    "knn = KNeighborsClassifier()\n",
    "%time knn.fit(X_scaled,y)\n",
    "print(\"Accuracy score on Train data:\", knn.score(X_scaled,y))\n",
    "print('Accuracy score on Test data:', knn.score(X_test_scaled, y_test))\n"
   ]
  },
  {
   "cell_type": "markdown",
   "metadata": {
    "colab_type": "text",
    "deletable": true,
    "editable": true,
    "id": "EtGxMB3piwKr"
   },
   "source": [
    "### Hyper-parameter (n_neighbors) tuning"
   ]
  },
  {
   "cell_type": "code",
   "execution_count": 34,
   "metadata": {
    "colab": {
     "base_uri": "https://localhost:8080/",
     "height": 102
    },
    "colab_type": "code",
    "collapsed": false,
    "deletable": true,
    "editable": true,
    "id": "ZekLCLJnp3fT",
    "outputId": "b24f8c2f-c20f-44a2-81c2-9a02effb2733"
   },
   "outputs": [
    {
     "name": "stdout",
     "output_type": "stream",
     "text": [
      "Wall time: 2min 22s\n",
      "Best Parameters: {'n_neighbors': 5}\n",
      "Accuracy score on Train data: 0.9329913433792882\n",
      "Accuracy score on Test data: 0.9127645926876202\n"
     ]
    }
   ],
   "source": [
    "knn_searcher = GridSearchCV(knn, param_grid={'n_neighbors':np.arange(3,10)}, cv=3, n_jobs=-1)\n",
    "%time knn_searcher.fit(X_scaled, y)\n",
    "print('Best Parameters:', knn_searcher.best_params_)\n",
    "print(\"Accuracy score on Train data:\", knn_searcher.score(X_scaled, y))\n",
    "print('Accuracy score on Test data:', knn_searcher.score(X_test_scaled, y_test))"
   ]
  },
  {
   "cell_type": "code",
   "execution_count": 36,
   "metadata": {
    "colab": {},
    "colab_type": "code",
    "collapsed": false,
    "deletable": true,
    "editable": true,
    "id": "9oM-hQSUUDZ6"
   },
   "outputs": [
    {
     "name": "stdout",
     "output_type": "stream",
     "text": [
      "Wall time: 3min 22s\n"
     ]
    },
    {
     "data": {
      "image/png": "[encoded data removed]",
      "text/plain": [
       "<matplotlib.figure.Figure at 0x20227ab3dd8>"
      ]
     },
     "metadata": {},
     "output_type": "display_data"
    }
   ],
   "source": [
    "# Cross validation with 10 iterations to get smoother mean test and train\n",
    "# score curves, each time with 20% data randomly selected as a validation set.\n",
    "cv = ShuffleSplit(n_splits=10, test_size=0.2, random_state=42)\n",
    "estimator = knn_searcher.best_estimator_\n",
    "plt.figure(figsize=(6, 6))\n",
    "%time plot_learning_curve(estimator, X_scaled, y, cv=cv,train_sizes=train_sizes)\n",
    "plt.title('Learning Curves KNN')\n",
    "plt.show()"
   ]
  },
  {
   "cell_type": "code",
   "execution_count": null,
   "metadata": {
    "colab": {
     "base_uri": "https://localhost:8080/",
     "height": 1470
    },
    "colab_type": "code",
    "collapsed": false,
    "deletable": true,
    "editable": true,
    "id": "xIp2CszcRsyv",
    "outputId": "a0a6bac5-d867-4f11-8652-281bc2651f0b"
   },
   "outputs": [],
   "source": [
    "# # Cross validation with 30 iterations to get smoother mean test and train\n",
    "# # score curves, each time with 33% data randomly selected as a validation set.\n",
    "# cv = ShuffleSplit(n_splits=30, test_size=0.33, random_state=42)\n",
    "\n",
    "# # specify the classifiers with different parameters and plot the learning curves\n",
    "# plt.figure(figsize=(14, 6))\n",
    "# subs = 120\n",
    "# for neighbor in [1, 10]:\n",
    "#     subs = subs + 1\n",
    "#     plt.subplot(subs)\n",
    "#     estimator = KNeighborsClassifier(n_neighbors=neighbor)\n",
    "#     plot_learning_curve(estimator, X_scaled, y, cv=cv,train_sizes=train_sizes[1:])\n",
    "#     plt.title('Learning Curves KNN({})'.format(neighbor))\n",
    "# plt.show()"
   ]
  },
  {
   "cell_type": "markdown",
   "metadata": {
    "colab_type": "text",
    "deletable": true,
    "editable": true,
    "id": "saLtfZmip94r"
   },
   "source": [
    "## SVM "
   ]
  },
  {
   "cell_type": "markdown",
   "metadata": {
    "colab_type": "text",
    "deletable": true,
    "editable": true,
    "id": "YXFOJNN1jEI4"
   },
   "source": [
    "### Linear kernel and Hyper-parameter tuning"
   ]
  },
  {
   "cell_type": "code",
   "execution_count": 40,
   "metadata": {
    "colab": {
     "base_uri": "https://localhost:8080/",
     "height": 122
    },
    "colab_type": "code",
    "collapsed": false,
    "deletable": true,
    "editable": true,
    "id": "kmtOrmGQp3cl",
    "outputId": "31ff713f-0b2c-4548-f03b-21aab18ad22e"
   },
   "outputs": [
    {
     "name": "stdout",
     "output_type": "stream",
     "text": [
      "Wall time: 1min 15s\n",
      "Best Parameters: {'gamma': 0.01}\n",
      "Accuracy score on Train data: 1.0\n",
      "Accuracy score on Test data: 0.9602309172546504\n"
     ]
    }
   ],
   "source": [
    "svm_searcher = GridSearchCV(SVC(kernel='linear'), param_grid={'gamma':[0.01, 0.1, 1]}, cv=5, n_jobs=4)\n",
    "%time svm_searcher.fit(X_scaled, y)\n",
    "print('Best Parameters:', svm_searcher.best_params_)\n",
    "print(\"Accuracy score on Train data:\", svm_searcher.score(X_scaled, y))\n",
    "print('Accuracy score on Test data:', svm_searcher.score(X_test_scaled, y_test))"
   ]
  },
  {
   "cell_type": "code",
   "execution_count": 46,
   "metadata": {
    "collapsed": false,
    "deletable": true,
    "editable": true
   },
   "outputs": [
    {
     "name": "stdout",
     "output_type": "stream",
     "text": [
      "Wall time: 1min 30s\n"
     ]
    },
    {
     "data": {
      "image/png": "[encoded data removed]",
      "text/plain": [
       "<matplotlib.figure.Figure at 0x20227828a90>"
      ]
     },
     "metadata": {},
     "output_type": "display_data"
    }
   ],
   "source": [
    "# Cross validation with 50 iterations to get smoother mean test and train\n",
    "# score curves, each time with 33% data randomly selected as a validation set.\n",
    "cv = ShuffleSplit(n_splits=5, test_size=0.2, random_state=42)\n",
    "# specify the classifiers with different parameters and plot the learning curves\n",
    "plt.figure(figsize=(7, 6))\n",
    "estimator = svm_searcher.best_estimator_\n",
    "%time plot_learning_curve(estimator, X_scaled, y, cv=cv,train_sizes=train_sizes, n_jobs=3)\n",
    "plt.title('Learning Curves SVM(gamma={})'.format(svm_searcher.best_params_['gamma']))\n",
    "plt.show()\n"
   ]
  },
  {
   "cell_type": "markdown",
   "metadata": {
    "colab_type": "text",
    "deletable": true,
    "editable": true,
    "id": "euuCW1bqjL3A"
   },
   "source": [
    "### 'rbf' kernel and Hyper-parameter tuning"
   ]
  },
  {
   "cell_type": "code",
   "execution_count": 47,
   "metadata": {
    "colab": {
     "base_uri": "https://localhost:8080/",
     "height": 156
    },
    "colab_type": "code",
    "collapsed": false,
    "deletable": true,
    "editable": true,
    "id": "-n5bvAe1cSlg",
    "outputId": "41882dce-2c27-4e47-8297-b43271d079e1"
   },
   "outputs": [
    {
     "name": "stdout",
     "output_type": "stream",
     "text": [
      "Wall time: 3min 29s\n",
      "Best Parameters {'gamma': 0.01, 'C': 10}\n",
      "Accuracy score on Train data: 1.0\n",
      "Accuracy score on Test data: 0.9685695958948044\n"
     ]
    }
   ],
   "source": [
    "rbf_searcher = GridSearchCV(SVC(kernel='rbf'), param_grid={'gamma':[ 0.01, 0.1, 1], 'C':[1, 10]}, cv=3, n_jobs=4)\n",
    "%time rbf_searcher.fit(X_scaled, y)\n",
    "print('Best Parameters',rbf_searcher.best_params_)\n",
    "print(\"Accuracy score on Train data:\", rbf_searcher.score(X_scaled, y))\n",
    "print('Accuracy score on Test data:', rbf_searcher.score(X_test_scaled, y_test))"
   ]
  },
  {
   "cell_type": "code",
   "execution_count": 48,
   "metadata": {
    "colab": {
     "base_uri": "https://localhost:8080/",
     "height": 328
    },
    "colab_type": "code",
    "collapsed": false,
    "deletable": true,
    "editable": true,
    "id": "-JHbc5GMSWTe",
    "outputId": "73e467fc-c05e-4fe5-bd81-a0bdadf6fd89"
   },
   "outputs": [
    {
     "name": "stdout",
     "output_type": "stream",
     "text": [
      "Wall time: 2min 20s\n"
     ]
    },
    {
     "data": {
      "image/png": "[encoded data removed]",
      "text/plain": [
       "<matplotlib.figure.Figure at 0x20227c5ba20>"
      ]
     },
     "metadata": {},
     "output_type": "display_data"
    }
   ],
   "source": [
    "estimator = rbf_searcher.best_estimator_\n",
    "%time plot_learning_curve(estimator, X_scaled, y, cv=cv,train_sizes=train_sizes, n_jobs=3)\n",
    "plt.title('Learning Curves SVM(Kernel=rbf)')\n",
    "plt.show()"
   ]
  },
  {
   "cell_type": "markdown",
   "metadata": {
    "colab_type": "text",
    "deletable": true,
    "editable": true,
    "id": "7KzHgfy10bsQ"
   },
   "source": [
    "## Deep Neural Network"
   ]
  },
  {
   "cell_type": "code",
   "execution_count": 34,
   "metadata": {
    "colab": {},
    "colab_type": "code",
    "collapsed": true,
    "deletable": true,
    "editable": true,
    "id": "A2YZeB-J0pjl"
   },
   "outputs": [],
   "source": [
    "from keras.models import Sequential, save_model\n",
    "from keras.callbacks import EarlyStopping\n",
    "from keras.layers import Dense\n",
    "from keras.utils import to_categorical\n",
    "from keras.optimizers import SGD, adam\n",
    "# from sklearn.preprocessing import StandardScaler\n",
    "# scaler = StandardScaler()\n",
    "# X_scaled = scaler.fit_transform(X)\n",
    "# X_test_scaled = scaler.fit_transform(X_test)"
   ]
  },
  {
   "cell_type": "code",
   "execution_count": 38,
   "metadata": {
    "colab": {
     "base_uri": "https://localhost:8080/",
     "height": 68
    },
    "colab_type": "code",
    "collapsed": false,
    "deletable": true,
    "editable": true,
    "id": "szqmxvsop3Zz",
    "outputId": "f6f569e5-3553-4d17-d3f3-ce2381c42df8"
   },
   "outputs": [],
   "source": [
    "# early_stopping_monitor = EarlyStopping(patience=2)\n",
    "input_shape = (X.shape[1],)\n",
    "\n",
    "# # Create the new model: model_2\n",
    "# model_1 = Sequential()\n",
    "\n",
    "# # Add the hidden layers\n",
    "# model_1.add(Dense(100, activation='relu', input_shape=input_shape))\n",
    "# model_1.add(Dense(100, activation='relu'))\n",
    "# model_1.add(Dense(100, activation='relu'))\n",
    "# model_1.add(Dense(100, activation='relu'))\n",
    "\n",
    "# # Add the output layer\n",
    "# model_1.add(Dense(26, activation='softmax'))\n",
    "\n"
   ]
  },
  {
   "cell_type": "markdown",
   "metadata": {
    "colab_type": "text",
    "deletable": true,
    "editable": true,
    "id": "qPuNsODojZGU"
   },
   "source": [
    "### Effect of learning rate in optimization"
   ]
  },
  {
   "cell_type": "code",
   "execution_count": 39,
   "metadata": {
    "colab": {
     "base_uri": "https://localhost:8080/",
     "height": 454
    },
    "colab_type": "code",
    "collapsed": false,
    "deletable": true,
    "editable": true,
    "id": "M2j8pVC1Tfk9",
    "outputId": "fde062ab-75d7-4a48-953d-bc45a3864225"
   },
   "outputs": [
    {
     "name": "stderr",
     "output_type": "stream",
     "text": [
      "100%|██████████| 3/3 [00:18<00:00,  6.27s/it]\n"
     ]
    },
    {
     "data": {
      "image/png": "[encoded data removed]",
      "text/plain": [
       "<matplotlib.figure.Figure at 0x1e9ee5f0f98>"
      ]
     },
     "metadata": {},
     "output_type": "display_data"
    }
   ],
   "source": [
    "subs = 140\n",
    "early_stopping_monitor = EarlyStopping(patience=10)\n",
    "\n",
    "plt.figure(figsize=(25, 6))\n",
    "for lr in tqdm([0.001, 0.01, 0.1]):\n",
    "    # Create the new model: model_2\n",
    "    model_1 = Sequential()\n",
    "\n",
    "    # Add the hidden layers\n",
    "    model_1.add(Dense(100, activation='relu', input_shape=input_shape))\n",
    "    model_1.add(Dense(100, activation='relu'))\n",
    "    model_1.add(Dense(100, activation='relu'))\n",
    "    model_1.add(Dense(100, activation='relu'))\n",
    "\n",
    "    # Add the output layer\n",
    "    model_1.add(Dense(26, activation='softmax'))\n",
    "    subs = subs+1\n",
    "    # Compile model_2\n",
    "    model_1.compile(optimizer=adam(lr=lr), loss='categorical_crossentropy', metrics=['accuracy'],)\n",
    "    # Fit model_1\n",
    "    model_1_training = model_1.fit(X_scaled, to_categorical(y-1), epochs=40, validation_split=0.3, verbose=False, callbacks=[early_stopping_monitor])\n",
    "    # Create the plot\n",
    "    plt.subplot(subs)\n",
    "    plt.plot(model_1_training.history['loss'], color='b', label='Validation Error')\n",
    "    plt.plot(model_1_training.history['val_loss'], color='r',label='Training Error')\n",
    "    plt.xlabel('Epochs')\n",
    "    plt.ylabel('Loss score')\n",
    "    plt.legend(loc='best')\n",
    "    plt.title('Neural Network Learning Curve(lr = {})'.format(lr))\n",
    "plt.show()\n"
   ]
  },
  {
   "cell_type": "markdown",
   "metadata": {
    "colab_type": "text",
    "deletable": true,
    "editable": true,
    "id": "4wihKskrjhJg"
   },
   "source": [
    "### Effect of number of layers"
   ]
  },
  {
   "cell_type": "code",
   "execution_count": 43,
   "metadata": {
    "colab": {
     "base_uri": "https://localhost:8080/",
     "height": 522
    },
    "colab_type": "code",
    "collapsed": false,
    "deletable": true,
    "editable": true,
    "id": "CmtimDR1RdaI",
    "outputId": "b6300436-3571-44b0-a69f-f0a147278a60"
   },
   "outputs": [
    {
     "name": "stderr",
     "output_type": "stream",
     "text": [
      "100%|██████████| 4/4 [01:53<00:00, 28.29s/it]\n"
     ]
    },
    {
     "name": "stdout",
     "output_type": "stream",
     "text": [
      "Test Accuracy scores: [0.9211032709072154, 0.9223861445441622, 0.923669018181109, 0.8434894161777974]\n",
      "Loss Scores: [0.3478616286467013, 0.39110983322261617, 0.3436976464141478, 0.5942499513730092]\n",
      "Train Accuracy Scores: [0.9401709401709402, 0.9348290598290598, 0.936965811965812, 0.9006410256410257]\n"
     ]
    }
   ],
   "source": [
    "early_stopping_monitor = EarlyStopping(patience=10)\n",
    "np.random.seed(0)\n",
    "input_shape = (X.shape[1],)\n",
    "subs = 140\n",
    "losses = []\n",
    "accs = []\n",
    "train_accs = []\n",
    "# plt.figure(figsize=(25, 6))\n",
    "for layer in tqdm(range(4)):\n",
    "  model = Sequential()\n",
    "  # add first hidden layers\n",
    "  model.add(Dense(200, activation='relu', input_shape=input_shape))  \n",
    "  for l in range(layer):\n",
    "    model.add(Dense(200, activation='relu'))\n",
    "  model.add(Dense(26, activation='softmax'))\n",
    "  subs = subs+1\n",
    "  # Compile model\n",
    "  model.compile(optimizer=adam(lr =0.01), loss='categorical_crossentropy', metrics=['accuracy'])\n",
    "\n",
    "  # Fit model_1\n",
    "  model_training = model.fit(X_scaled, to_categorical(y-1), epochs=40, validation_split=0.3, verbose=False, callbacks=[early_stopping_monitor])\n",
    "  loss, acc = model.evaluate(X_test_scaled, to_categorical(y_test-1), verbose=False)\n",
    "  losses.append(loss)\n",
    "  accs.append(acc)\n",
    "  train_accs.append(max(model.history.history['val_acc']))\n",
    "print(\"Test Accuracy scores:\", accs)\n",
    "print(\"Loss Scores:\", losses)\n",
    "print(\"Train Accuracy Scores:\", train_accs)"
   ]
  },
  {
   "cell_type": "code",
   "execution_count": 69,
   "metadata": {
    "collapsed": false
   },
   "outputs": [
    {
     "data": {
      "text/plain": [
       "[0.3487780570429514, 0.9281590759104227]"
      ]
     },
     "execution_count": 69,
     "metadata": {},
     "output_type": "execute_result"
    }
   ],
   "source": [
    "\n",
    "# Create the new model: model_2\n",
    "model_2 = Sequential()\n",
    "\n",
    "# Add the hidden layers\n",
    "model_2.add(Dense(100, activation='relu', input_shape=input_shape))\n",
    "model_2.add(Dense(100, activation='relu'))\n",
    "model_2.add(Dense(100, activation='relu'))\n",
    "# model_2.add(Dense(100, activation='relu'))\n",
    "\n",
    "# Add the output layer\n",
    "model_2.add(Dense(26, activation='softmax'))\n",
    "\n",
    "model_2.compile(optimizer=adam(lr =0.01),\n",
    "                loss='categorical_crossentropy',\n",
    "                metrics=['accuracy'])\n",
    "\n",
    "# Fit model_2\n",
    "model_2_training = model_2.fit(X_scaled, to_categorical(y-1),\n",
    "                               epochs=40, batch_size=60,\n",
    "                               validation_split=0.3,\n",
    "                               verbose=False,\n",
    "                               callbacks=[early_stopping_monitor])\n",
    "\n",
    "model_2.evaluate(X_test_scaled, to_categorical(y_test-1), verbose=False)"
   ]
  },
  {
   "cell_type": "code",
   "execution_count": 70,
   "metadata": {
    "collapsed": false
   },
   "outputs": [
    {
     "data": {
      "text/plain": [
       "{'batch_size': 60,\n",
       " 'do_validation': True,\n",
       " 'epochs': 40,\n",
       " 'metrics': ['loss', 'acc', 'val_loss', 'val_acc'],\n",
       " 'samples': 4366,\n",
       " 'steps': None,\n",
       " 'verbose': False}"
      ]
     },
     "execution_count": 70,
     "metadata": {},
     "output_type": "execute_result"
    }
   ],
   "source": [
    "model_2_training.params"
   ]
  },
  {
   "cell_type": "code",
   "execution_count": 71,
   "metadata": {
    "collapsed": false
   },
   "outputs": [
    {
     "data": {
      "image/png": "[encoded data removed]",
      "text/plain": [
       "<matplotlib.figure.Figure at 0x1e9c2170a90>"
      ]
     },
     "metadata": {},
     "output_type": "display_data"
    }
   ],
   "source": [
    "plt.plot(model_2_training.history['loss'], color='b', label='Validation Error')\n",
    "plt.plot(model_2_training.history['val_loss'], color='r',label='Training Error')\n",
    "plt.xlabel('Epochs')\n",
    "plt.ylabel('Loss score')\n",
    "plt.legend(loc='best')\n",
    "plt.title('Neural Network Learning Curve(lr = 0.01)')\n",
    "plt.show()"
   ]
  }
 ],
 "metadata": {
  "colab": {
   "collapsed_sections": [],
   "name": "first_case.ipynb",
   "provenance": [],
   "version": "0.3.2"
  },
  "kernelspec": {
   "display_name": "Python 3",
   "language": "python",
   "name": "python3"
  },
  "language_info": {
   "codemirror_mode": {
    "name": "ipython",
    "version": 3
   },
   "file_extension": ".py",
   "mimetype": "text/x-python",
   "name": "python",
   "nbconvert_exporter": "python",
   "pygments_lexer": "ipython3",
   "version": "3.5.2"
  }
 },
 "nbformat": 4,
 "nbformat_minor": 0
}
